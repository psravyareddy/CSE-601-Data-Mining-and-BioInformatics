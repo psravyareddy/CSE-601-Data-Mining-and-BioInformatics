{
 "cells": [
  {
   "cell_type": "code",
   "execution_count": 2,
   "metadata": {
    "_cell_guid": "b1076dfc-b9ad-4769-8c92-a6c4dae69d19",
    "_uuid": "8f2839f25d086af736a60e9eeb907d3b93b6e0e5"
   },
   "outputs": [],
   "source": [
    "# This Python 3 environment comes with many helpful analytics libraries installed\n",
    "# It is defined by the kaggle/python Docker image: https://github.com/kaggle/docker-python\n",
    "# For example, here's several helpful packages to load\n",
    "\n",
    "import numpy as np # linear algebra\n",
    "import pandas as pd # data processing, CSV file I/O (e.g. pd.read_csv)\n",
    "\n",
    "# Input data files are available in the read-only \"../input/\" directory\n",
    "# For example, running this (by clicking run or pressing Shift+Enter) will list all files under the input directory\n",
    "\n",
    "import os\n",
    "# for dirname, _, filenames in os.walk('/kaggle/input'):\n",
    "#     for filename in filenames:\n",
    "#         print(os.path.join(dirname, filename))\n",
    "\n",
    "# You can write up to 20GB to the current directory (/kaggle/working/) that gets preserved as output when you create a version using \"Save & Run All\" \n",
    "# You can also write temporary files to /kaggle/temp/, but they won't be saved outside of the current session"
   ]
  },
  {
   "cell_type": "code",
   "execution_count": 3,
   "metadata": {
    "_cell_guid": "79c7e3d0-c299-4dcb-8224-4455121ee9b0",
    "_uuid": "d629ff2d2480ee46fbb7e2d37f6b5fab8052498a"
   },
   "outputs": [],
   "source": [
    "df_train_features = pd.read_csv('../train_features.csv', header=None)\n",
    "df_train_labels = pd.read_csv('../train_labels.csv')\n",
    "df_test_features = pd.read_csv('../test_features.csv', header=None)"
   ]
  },
  {
   "cell_type": "code",
   "execution_count": 4,
   "metadata": {},
   "outputs": [
    {
     "output_type": "stream",
     "name": "stdout",
     "text": [
      "(400, 101) (400, 2) (396, 101)\n"
     ]
    }
   ],
   "source": [
    "print(df_train_features.shape, df_train_labels.shape, df_test_features.shape)"
   ]
  },
  {
   "cell_type": "code",
   "execution_count": 5,
   "metadata": {},
   "outputs": [
    {
     "output_type": "execute_result",
     "data": {
      "text/plain": [
       "            1             2              3              4              5    \\\n",
       "0 -1.515607e+09  1.328387e+06  -86669.836528  -80760.171527   37683.326007   \n",
       "1 -2.508439e+08  2.140667e+06 -124832.861999  -68742.551176   26100.599052   \n",
       "2  2.335491e+09 -6.227464e+06 -409548.209723  -65041.782331  -41080.477707   \n",
       "3  1.919882e+09 -1.870867e+05 -270585.714980  -72957.107170  -24531.070585   \n",
       "4 -2.399716e+09  2.676932e+06  -24698.307156 -120150.334432   13621.292216   \n",
       "5 -2.471535e+09  9.988673e+05  -53267.410472 -103404.644656   30634.323545   \n",
       "6 -5.278842e+08 -1.664407e+06 -189283.980200  -61236.602429   29824.406739   \n",
       "7 -2.159229e+09  1.942055e+06  -47271.111007  -95968.876549   35384.191800   \n",
       "8  2.985104e+09 -3.905989e+07 -214095.400268  733810.153071  159665.918043   \n",
       "9  3.837443e+07 -1.841872e+06 -215478.278888  -34322.825103   53135.069133   \n",
       "\n",
       "            6             7             8             9             10   ...  \\\n",
       "0   2811.992313 -20856.245765  -1864.132151   2488.872881  -2057.014057  ...   \n",
       "1   1701.017155   1275.734546  -2443.128877   -218.695692   -119.857069  ...   \n",
       "2  -2797.327985  47576.357873  -4960.118354  -1623.049817   1656.752074  ...   \n",
       "3  -3896.140983 -29726.702252  -5623.420856  -2043.742228   1791.873024  ...   \n",
       "4   4586.756127 -22851.715622   -863.111722   1421.905627  -1432.162925  ...   \n",
       "5   7847.490263  51917.610667  -3869.149126    846.280396   -910.608514  ...   \n",
       "6   2404.917037  27655.712258  11113.706214  -7132.202512   3415.651128  ...   \n",
       "7   8783.938511  75676.921565   -293.029502   2686.787065  -2524.224820  ...   \n",
       "8  60159.756538  37759.224420   1728.992697  10483.456092  17618.041751  ...   \n",
       "9  -3077.592740 -63505.862242  -2706.361177  -1806.816112   1031.087550  ...   \n",
       "\n",
       "        91        92        93        94        95        96        97   \\\n",
       "0 -0.004371  0.003810  0.007510  0.001826  0.001346 -0.000331  0.003901   \n",
       "1 -0.007001  0.007873  0.005031  0.003707  0.000891 -0.005689  0.003963   \n",
       "2  0.001331  0.001838 -0.002226 -0.005837 -0.004292  0.002988  0.000625   \n",
       "3  0.002783  0.002190  0.001144  0.001127 -0.000092 -0.003437  0.001742   \n",
       "4 -0.000156  0.001250  0.000525 -0.000450 -0.006496  0.004580  0.000768   \n",
       "5 -0.004095 -0.000031  0.001348  0.001979 -0.001776 -0.003085 -0.003139   \n",
       "6  0.000366  0.001908  0.006120 -0.004947 -0.008846  0.005031  0.018528   \n",
       "7  0.000296  0.000579 -0.003635  0.005165 -0.001881  0.001311  0.003511   \n",
       "8 -0.004316  0.000604  0.012995  0.000480  0.004195 -0.000386 -0.001210   \n",
       "9  0.000505 -0.005568  0.001923  0.003020  0.010642  0.003548 -0.002265   \n",
       "\n",
       "        98        99        100  \n",
       "0 -0.000762  0.000740  0.002629  \n",
       "1  0.000987 -0.006232  0.006711  \n",
       "2  0.000641 -0.001175 -0.000989  \n",
       "3 -0.000467  0.000047  0.003571  \n",
       "4 -0.002454 -0.002332  0.000419  \n",
       "5  0.007180  0.003324  0.002480  \n",
       "6  0.022278  0.002233 -0.002995  \n",
       "7  0.007448  0.003690  0.002705  \n",
       "8 -0.008905  0.007351 -0.000870  \n",
       "9  0.005969 -0.000664 -0.001936  \n",
       "\n",
       "[10 rows x 100 columns]"
      ],
      "text/html": "<div>\n<style scoped>\n    .dataframe tbody tr th:only-of-type {\n        vertical-align: middle;\n    }\n\n    .dataframe tbody tr th {\n        vertical-align: top;\n    }\n\n    .dataframe thead th {\n        text-align: right;\n    }\n</style>\n<table border=\"1\" class=\"dataframe\">\n  <thead>\n    <tr style=\"text-align: right;\">\n      <th></th>\n      <th>1</th>\n      <th>2</th>\n      <th>3</th>\n      <th>4</th>\n      <th>5</th>\n      <th>6</th>\n      <th>7</th>\n      <th>8</th>\n      <th>9</th>\n      <th>10</th>\n      <th>...</th>\n      <th>91</th>\n      <th>92</th>\n      <th>93</th>\n      <th>94</th>\n      <th>95</th>\n      <th>96</th>\n      <th>97</th>\n      <th>98</th>\n      <th>99</th>\n      <th>100</th>\n    </tr>\n  </thead>\n  <tbody>\n    <tr>\n      <th>0</th>\n      <td>-1.515607e+09</td>\n      <td>1.328387e+06</td>\n      <td>-86669.836528</td>\n      <td>-80760.171527</td>\n      <td>37683.326007</td>\n      <td>2811.992313</td>\n      <td>-20856.245765</td>\n      <td>-1864.132151</td>\n      <td>2488.872881</td>\n      <td>-2057.014057</td>\n      <td>...</td>\n      <td>-0.004371</td>\n      <td>0.003810</td>\n      <td>0.007510</td>\n      <td>0.001826</td>\n      <td>0.001346</td>\n      <td>-0.000331</td>\n      <td>0.003901</td>\n      <td>-0.000762</td>\n      <td>0.000740</td>\n      <td>0.002629</td>\n    </tr>\n    <tr>\n      <th>1</th>\n      <td>-2.508439e+08</td>\n      <td>2.140667e+06</td>\n      <td>-124832.861999</td>\n      <td>-68742.551176</td>\n      <td>26100.599052</td>\n      <td>1701.017155</td>\n      <td>1275.734546</td>\n      <td>-2443.128877</td>\n      <td>-218.695692</td>\n      <td>-119.857069</td>\n      <td>...</td>\n      <td>-0.007001</td>\n      <td>0.007873</td>\n      <td>0.005031</td>\n      <td>0.003707</td>\n      <td>0.000891</td>\n      <td>-0.005689</td>\n      <td>0.003963</td>\n      <td>0.000987</td>\n      <td>-0.006232</td>\n      <td>0.006711</td>\n    </tr>\n    <tr>\n      <th>2</th>\n      <td>2.335491e+09</td>\n      <td>-6.227464e+06</td>\n      <td>-409548.209723</td>\n      <td>-65041.782331</td>\n      <td>-41080.477707</td>\n      <td>-2797.327985</td>\n      <td>47576.357873</td>\n      <td>-4960.118354</td>\n      <td>-1623.049817</td>\n      <td>1656.752074</td>\n      <td>...</td>\n      <td>0.001331</td>\n      <td>0.001838</td>\n      <td>-0.002226</td>\n      <td>-0.005837</td>\n      <td>-0.004292</td>\n      <td>0.002988</td>\n      <td>0.000625</td>\n      <td>0.000641</td>\n      <td>-0.001175</td>\n      <td>-0.000989</td>\n    </tr>\n    <tr>\n      <th>3</th>\n      <td>1.919882e+09</td>\n      <td>-1.870867e+05</td>\n      <td>-270585.714980</td>\n      <td>-72957.107170</td>\n      <td>-24531.070585</td>\n      <td>-3896.140983</td>\n      <td>-29726.702252</td>\n      <td>-5623.420856</td>\n      <td>-2043.742228</td>\n      <td>1791.873024</td>\n      <td>...</td>\n      <td>0.002783</td>\n      <td>0.002190</td>\n      <td>0.001144</td>\n      <td>0.001127</td>\n      <td>-0.000092</td>\n      <td>-0.003437</td>\n      <td>0.001742</td>\n      <td>-0.000467</td>\n      <td>0.000047</td>\n      <td>0.003571</td>\n    </tr>\n    <tr>\n      <th>4</th>\n      <td>-2.399716e+09</td>\n      <td>2.676932e+06</td>\n      <td>-24698.307156</td>\n      <td>-120150.334432</td>\n      <td>13621.292216</td>\n      <td>4586.756127</td>\n      <td>-22851.715622</td>\n      <td>-863.111722</td>\n      <td>1421.905627</td>\n      <td>-1432.162925</td>\n      <td>...</td>\n      <td>-0.000156</td>\n      <td>0.001250</td>\n      <td>0.000525</td>\n      <td>-0.000450</td>\n      <td>-0.006496</td>\n      <td>0.004580</td>\n      <td>0.000768</td>\n      <td>-0.002454</td>\n      <td>-0.002332</td>\n      <td>0.000419</td>\n    </tr>\n    <tr>\n      <th>5</th>\n      <td>-2.471535e+09</td>\n      <td>9.988673e+05</td>\n      <td>-53267.410472</td>\n      <td>-103404.644656</td>\n      <td>30634.323545</td>\n      <td>7847.490263</td>\n      <td>51917.610667</td>\n      <td>-3869.149126</td>\n      <td>846.280396</td>\n      <td>-910.608514</td>\n      <td>...</td>\n      <td>-0.004095</td>\n      <td>-0.000031</td>\n      <td>0.001348</td>\n      <td>0.001979</td>\n      <td>-0.001776</td>\n      <td>-0.003085</td>\n      <td>-0.003139</td>\n      <td>0.007180</td>\n      <td>0.003324</td>\n      <td>0.002480</td>\n    </tr>\n    <tr>\n      <th>6</th>\n      <td>-5.278842e+08</td>\n      <td>-1.664407e+06</td>\n      <td>-189283.980200</td>\n      <td>-61236.602429</td>\n      <td>29824.406739</td>\n      <td>2404.917037</td>\n      <td>27655.712258</td>\n      <td>11113.706214</td>\n      <td>-7132.202512</td>\n      <td>3415.651128</td>\n      <td>...</td>\n      <td>0.000366</td>\n      <td>0.001908</td>\n      <td>0.006120</td>\n      <td>-0.004947</td>\n      <td>-0.008846</td>\n      <td>0.005031</td>\n      <td>0.018528</td>\n      <td>0.022278</td>\n      <td>0.002233</td>\n      <td>-0.002995</td>\n    </tr>\n    <tr>\n      <th>7</th>\n      <td>-2.159229e+09</td>\n      <td>1.942055e+06</td>\n      <td>-47271.111007</td>\n      <td>-95968.876549</td>\n      <td>35384.191800</td>\n      <td>8783.938511</td>\n      <td>75676.921565</td>\n      <td>-293.029502</td>\n      <td>2686.787065</td>\n      <td>-2524.224820</td>\n      <td>...</td>\n      <td>0.000296</td>\n      <td>0.000579</td>\n      <td>-0.003635</td>\n      <td>0.005165</td>\n      <td>-0.001881</td>\n      <td>0.001311</td>\n      <td>0.003511</td>\n      <td>0.007448</td>\n      <td>0.003690</td>\n      <td>0.002705</td>\n    </tr>\n    <tr>\n      <th>8</th>\n      <td>2.985104e+09</td>\n      <td>-3.905989e+07</td>\n      <td>-214095.400268</td>\n      <td>733810.153071</td>\n      <td>159665.918043</td>\n      <td>60159.756538</td>\n      <td>37759.224420</td>\n      <td>1728.992697</td>\n      <td>10483.456092</td>\n      <td>17618.041751</td>\n      <td>...</td>\n      <td>-0.004316</td>\n      <td>0.000604</td>\n      <td>0.012995</td>\n      <td>0.000480</td>\n      <td>0.004195</td>\n      <td>-0.000386</td>\n      <td>-0.001210</td>\n      <td>-0.008905</td>\n      <td>0.007351</td>\n      <td>-0.000870</td>\n    </tr>\n    <tr>\n      <th>9</th>\n      <td>3.837443e+07</td>\n      <td>-1.841872e+06</td>\n      <td>-215478.278888</td>\n      <td>-34322.825103</td>\n      <td>53135.069133</td>\n      <td>-3077.592740</td>\n      <td>-63505.862242</td>\n      <td>-2706.361177</td>\n      <td>-1806.816112</td>\n      <td>1031.087550</td>\n      <td>...</td>\n      <td>0.000505</td>\n      <td>-0.005568</td>\n      <td>0.001923</td>\n      <td>0.003020</td>\n      <td>0.010642</td>\n      <td>0.003548</td>\n      <td>-0.002265</td>\n      <td>0.005969</td>\n      <td>-0.000664</td>\n      <td>-0.001936</td>\n    </tr>\n  </tbody>\n</table>\n<p>10 rows × 100 columns</p>\n</div>"
     },
     "metadata": {},
     "execution_count": 5
    }
   ],
   "source": [
    "df_train_features = df_train_features[df_train_features.columns[1:]]\n",
    "df_train_features.head(10)"
   ]
  },
  {
   "cell_type": "code",
   "execution_count": 6,
   "metadata": {},
   "outputs": [
    {
     "output_type": "execute_result",
     "data": {
      "text/plain": [
       "            1             2             3             4             5    \\\n",
       "0 -2.144100e+08  6.156483e+06 -4.000908e+04 -1.067989e+05 -2.207587e+04   \n",
       "1  8.887227e+08 -5.697653e+06 -3.246350e+05 -1.458124e+04  3.360443e+04   \n",
       "2 -1.834045e+09  2.012896e+06 -5.757508e+04 -7.745355e+04  4.855096e+04   \n",
       "3 -6.040876e+08  1.452041e+06 -1.232778e+05 -6.675106e+04  3.544916e+04   \n",
       "4  5.274843e+07 -4.289884e+06 -2.555023e+05 -3.156241e+04  4.914208e+04   \n",
       "5 -5.457172e+08 -5.674806e+06  1.161370e+06  1.208870e+06 -1.457188e+06   \n",
       "6 -2.265580e+08 -8.797007e+05 -1.872293e+05 -6.968443e+04  1.460254e+04   \n",
       "7 -5.685411e+08 -4.079233e+05 -1.602802e+05 -4.458207e+04  5.704123e+04   \n",
       "8  7.436139e+08  1.113920e+06 -1.867870e+05 -4.646908e+04  3.028472e+04   \n",
       "9 -2.446872e+09  2.532112e+06 -2.479969e+04 -1.150109e+05  2.029131e+04   \n",
       "\n",
       "            6             7             8            9            10   ...  \\\n",
       "0   -131.213147 -42677.883959  -1345.726290 -2139.740820  1252.082560  ...   \n",
       "1  -6616.477948 -62974.019123   5014.299745 -5103.807233  2853.937468  ...   \n",
       "2   3423.537938 -22131.213006    462.895476  2560.000549 -2431.303783  ...   \n",
       "3   1439.544188 -13681.724960  -2333.485201 -1307.836187   580.551951  ...   \n",
       "4    358.703139  25320.387579  -5583.576500 -2432.435069  1759.132287  ...   \n",
       "5  49643.679339 -28738.282607  -1424.025959  -907.633609  3950.890147  ...   \n",
       "6   4429.609533  73357.807419    686.576166  1082.446352 -1197.298645  ...   \n",
       "7   1903.850094   7633.869417  -2348.483164   867.195203  -959.886692  ...   \n",
       "8  -2571.434893 -50116.651979    692.604895 -4008.118409  2169.385021  ...   \n",
       "9   5582.640777  -3076.661058  10742.716835  -430.672840 -1287.074703  ...   \n",
       "\n",
       "        91        92        93        94        95        96        97   \\\n",
       "0 -0.004107 -0.002644  0.000573  0.004455  0.000742  0.000251  0.010003   \n",
       "1  0.004792 -0.005321  0.006356  0.020417  0.003568  0.003092  0.004354   \n",
       "2 -0.009077  0.004042 -0.002609 -0.008480 -0.002297  0.000568 -0.002650   \n",
       "3  0.000050 -0.001723 -0.003022 -0.002693  0.001505 -0.000686 -0.002552   \n",
       "4 -0.005462 -0.004288 -0.000728  0.001797  0.002756  0.001359  0.004625   \n",
       "5  0.004040  0.004015 -0.012465  0.003305  0.007033  0.015414 -0.001974   \n",
       "6 -0.004495  0.010647  0.002906 -0.005558 -0.019758  0.003603 -0.000615   \n",
       "7 -0.001472  0.003288  0.002109  0.000746 -0.004905  0.001209 -0.002660   \n",
       "8 -0.003107  0.001629 -0.003428 -0.003088  0.000797 -0.001018  0.004796   \n",
       "9  0.001598 -0.005005  0.004809  0.002021  0.004361  0.001474  0.000536   \n",
       "\n",
       "        98        99        100  \n",
       "0 -0.002461  0.000007 -0.001208  \n",
       "1  0.000841  0.006413 -0.002123  \n",
       "2  0.001871  0.004263 -0.009482  \n",
       "3 -0.003826 -0.005397 -0.003756  \n",
       "4 -0.002706  0.003057 -0.002346  \n",
       "5 -0.000705 -0.009932 -0.005075  \n",
       "6 -0.002769 -0.002713 -0.003212  \n",
       "7 -0.001137 -0.002120  0.000966  \n",
       "8 -0.002399  0.001180  0.001408  \n",
       "9  0.002909  0.001062  0.001127  \n",
       "\n",
       "[10 rows x 100 columns]"
      ],
      "text/html": "<div>\n<style scoped>\n    .dataframe tbody tr th:only-of-type {\n        vertical-align: middle;\n    }\n\n    .dataframe tbody tr th {\n        vertical-align: top;\n    }\n\n    .dataframe thead th {\n        text-align: right;\n    }\n</style>\n<table border=\"1\" class=\"dataframe\">\n  <thead>\n    <tr style=\"text-align: right;\">\n      <th></th>\n      <th>1</th>\n      <th>2</th>\n      <th>3</th>\n      <th>4</th>\n      <th>5</th>\n      <th>6</th>\n      <th>7</th>\n      <th>8</th>\n      <th>9</th>\n      <th>10</th>\n      <th>...</th>\n      <th>91</th>\n      <th>92</th>\n      <th>93</th>\n      <th>94</th>\n      <th>95</th>\n      <th>96</th>\n      <th>97</th>\n      <th>98</th>\n      <th>99</th>\n      <th>100</th>\n    </tr>\n  </thead>\n  <tbody>\n    <tr>\n      <th>0</th>\n      <td>-2.144100e+08</td>\n      <td>6.156483e+06</td>\n      <td>-4.000908e+04</td>\n      <td>-1.067989e+05</td>\n      <td>-2.207587e+04</td>\n      <td>-131.213147</td>\n      <td>-42677.883959</td>\n      <td>-1345.726290</td>\n      <td>-2139.740820</td>\n      <td>1252.082560</td>\n      <td>...</td>\n      <td>-0.004107</td>\n      <td>-0.002644</td>\n      <td>0.000573</td>\n      <td>0.004455</td>\n      <td>0.000742</td>\n      <td>0.000251</td>\n      <td>0.010003</td>\n      <td>-0.002461</td>\n      <td>0.000007</td>\n      <td>-0.001208</td>\n    </tr>\n    <tr>\n      <th>1</th>\n      <td>8.887227e+08</td>\n      <td>-5.697653e+06</td>\n      <td>-3.246350e+05</td>\n      <td>-1.458124e+04</td>\n      <td>3.360443e+04</td>\n      <td>-6616.477948</td>\n      <td>-62974.019123</td>\n      <td>5014.299745</td>\n      <td>-5103.807233</td>\n      <td>2853.937468</td>\n      <td>...</td>\n      <td>0.004792</td>\n      <td>-0.005321</td>\n      <td>0.006356</td>\n      <td>0.020417</td>\n      <td>0.003568</td>\n      <td>0.003092</td>\n      <td>0.004354</td>\n      <td>0.000841</td>\n      <td>0.006413</td>\n      <td>-0.002123</td>\n    </tr>\n    <tr>\n      <th>2</th>\n      <td>-1.834045e+09</td>\n      <td>2.012896e+06</td>\n      <td>-5.757508e+04</td>\n      <td>-7.745355e+04</td>\n      <td>4.855096e+04</td>\n      <td>3423.537938</td>\n      <td>-22131.213006</td>\n      <td>462.895476</td>\n      <td>2560.000549</td>\n      <td>-2431.303783</td>\n      <td>...</td>\n      <td>-0.009077</td>\n      <td>0.004042</td>\n      <td>-0.002609</td>\n      <td>-0.008480</td>\n      <td>-0.002297</td>\n      <td>0.000568</td>\n      <td>-0.002650</td>\n      <td>0.001871</td>\n      <td>0.004263</td>\n      <td>-0.009482</td>\n    </tr>\n    <tr>\n      <th>3</th>\n      <td>-6.040876e+08</td>\n      <td>1.452041e+06</td>\n      <td>-1.232778e+05</td>\n      <td>-6.675106e+04</td>\n      <td>3.544916e+04</td>\n      <td>1439.544188</td>\n      <td>-13681.724960</td>\n      <td>-2333.485201</td>\n      <td>-1307.836187</td>\n      <td>580.551951</td>\n      <td>...</td>\n      <td>0.000050</td>\n      <td>-0.001723</td>\n      <td>-0.003022</td>\n      <td>-0.002693</td>\n      <td>0.001505</td>\n      <td>-0.000686</td>\n      <td>-0.002552</td>\n      <td>-0.003826</td>\n      <td>-0.005397</td>\n      <td>-0.003756</td>\n    </tr>\n    <tr>\n      <th>4</th>\n      <td>5.274843e+07</td>\n      <td>-4.289884e+06</td>\n      <td>-2.555023e+05</td>\n      <td>-3.156241e+04</td>\n      <td>4.914208e+04</td>\n      <td>358.703139</td>\n      <td>25320.387579</td>\n      <td>-5583.576500</td>\n      <td>-2432.435069</td>\n      <td>1759.132287</td>\n      <td>...</td>\n      <td>-0.005462</td>\n      <td>-0.004288</td>\n      <td>-0.000728</td>\n      <td>0.001797</td>\n      <td>0.002756</td>\n      <td>0.001359</td>\n      <td>0.004625</td>\n      <td>-0.002706</td>\n      <td>0.003057</td>\n      <td>-0.002346</td>\n    </tr>\n    <tr>\n      <th>5</th>\n      <td>-5.457172e+08</td>\n      <td>-5.674806e+06</td>\n      <td>1.161370e+06</td>\n      <td>1.208870e+06</td>\n      <td>-1.457188e+06</td>\n      <td>49643.679339</td>\n      <td>-28738.282607</td>\n      <td>-1424.025959</td>\n      <td>-907.633609</td>\n      <td>3950.890147</td>\n      <td>...</td>\n      <td>0.004040</td>\n      <td>0.004015</td>\n      <td>-0.012465</td>\n      <td>0.003305</td>\n      <td>0.007033</td>\n      <td>0.015414</td>\n      <td>-0.001974</td>\n      <td>-0.000705</td>\n      <td>-0.009932</td>\n      <td>-0.005075</td>\n    </tr>\n    <tr>\n      <th>6</th>\n      <td>-2.265580e+08</td>\n      <td>-8.797007e+05</td>\n      <td>-1.872293e+05</td>\n      <td>-6.968443e+04</td>\n      <td>1.460254e+04</td>\n      <td>4429.609533</td>\n      <td>73357.807419</td>\n      <td>686.576166</td>\n      <td>1082.446352</td>\n      <td>-1197.298645</td>\n      <td>...</td>\n      <td>-0.004495</td>\n      <td>0.010647</td>\n      <td>0.002906</td>\n      <td>-0.005558</td>\n      <td>-0.019758</td>\n      <td>0.003603</td>\n      <td>-0.000615</td>\n      <td>-0.002769</td>\n      <td>-0.002713</td>\n      <td>-0.003212</td>\n    </tr>\n    <tr>\n      <th>7</th>\n      <td>-5.685411e+08</td>\n      <td>-4.079233e+05</td>\n      <td>-1.602802e+05</td>\n      <td>-4.458207e+04</td>\n      <td>5.704123e+04</td>\n      <td>1903.850094</td>\n      <td>7633.869417</td>\n      <td>-2348.483164</td>\n      <td>867.195203</td>\n      <td>-959.886692</td>\n      <td>...</td>\n      <td>-0.001472</td>\n      <td>0.003288</td>\n      <td>0.002109</td>\n      <td>0.000746</td>\n      <td>-0.004905</td>\n      <td>0.001209</td>\n      <td>-0.002660</td>\n      <td>-0.001137</td>\n      <td>-0.002120</td>\n      <td>0.000966</td>\n    </tr>\n    <tr>\n      <th>8</th>\n      <td>7.436139e+08</td>\n      <td>1.113920e+06</td>\n      <td>-1.867870e+05</td>\n      <td>-4.646908e+04</td>\n      <td>3.028472e+04</td>\n      <td>-2571.434893</td>\n      <td>-50116.651979</td>\n      <td>692.604895</td>\n      <td>-4008.118409</td>\n      <td>2169.385021</td>\n      <td>...</td>\n      <td>-0.003107</td>\n      <td>0.001629</td>\n      <td>-0.003428</td>\n      <td>-0.003088</td>\n      <td>0.000797</td>\n      <td>-0.001018</td>\n      <td>0.004796</td>\n      <td>-0.002399</td>\n      <td>0.001180</td>\n      <td>0.001408</td>\n    </tr>\n    <tr>\n      <th>9</th>\n      <td>-2.446872e+09</td>\n      <td>2.532112e+06</td>\n      <td>-2.479969e+04</td>\n      <td>-1.150109e+05</td>\n      <td>2.029131e+04</td>\n      <td>5582.640777</td>\n      <td>-3076.661058</td>\n      <td>10742.716835</td>\n      <td>-430.672840</td>\n      <td>-1287.074703</td>\n      <td>...</td>\n      <td>0.001598</td>\n      <td>-0.005005</td>\n      <td>0.004809</td>\n      <td>0.002021</td>\n      <td>0.004361</td>\n      <td>0.001474</td>\n      <td>0.000536</td>\n      <td>0.002909</td>\n      <td>0.001062</td>\n      <td>0.001127</td>\n    </tr>\n  </tbody>\n</table>\n<p>10 rows × 100 columns</p>\n</div>"
     },
     "metadata": {},
     "execution_count": 6
    }
   ],
   "source": [
    "df_test_features = df_test_features[df_test_features.columns[1:]]\n",
    "df_test_features.head(10)"
   ]
  },
  {
   "cell_type": "code",
   "execution_count": 7,
   "metadata": {},
   "outputs": [
    {
     "output_type": "execute_result",
     "data": {
      "text/plain": [
       "   label\n",
       "0      1\n",
       "1      1\n",
       "2      1\n",
       "3      0\n",
       "4      1\n",
       "5      0\n",
       "6      1\n",
       "7      1\n",
       "8      1\n",
       "9      1"
      ],
      "text/html": "<div>\n<style scoped>\n    .dataframe tbody tr th:only-of-type {\n        vertical-align: middle;\n    }\n\n    .dataframe tbody tr th {\n        vertical-align: top;\n    }\n\n    .dataframe thead th {\n        text-align: right;\n    }\n</style>\n<table border=\"1\" class=\"dataframe\">\n  <thead>\n    <tr style=\"text-align: right;\">\n      <th></th>\n      <th>label</th>\n    </tr>\n  </thead>\n  <tbody>\n    <tr>\n      <th>0</th>\n      <td>1</td>\n    </tr>\n    <tr>\n      <th>1</th>\n      <td>1</td>\n    </tr>\n    <tr>\n      <th>2</th>\n      <td>1</td>\n    </tr>\n    <tr>\n      <th>3</th>\n      <td>0</td>\n    </tr>\n    <tr>\n      <th>4</th>\n      <td>1</td>\n    </tr>\n    <tr>\n      <th>5</th>\n      <td>0</td>\n    </tr>\n    <tr>\n      <th>6</th>\n      <td>1</td>\n    </tr>\n    <tr>\n      <th>7</th>\n      <td>1</td>\n    </tr>\n    <tr>\n      <th>8</th>\n      <td>1</td>\n    </tr>\n    <tr>\n      <th>9</th>\n      <td>1</td>\n    </tr>\n  </tbody>\n</table>\n</div>"
     },
     "metadata": {},
     "execution_count": 7
    }
   ],
   "source": [
    "df_train_labels = df_train_labels[df_train_labels.columns[1:]]\n",
    "df_train_labels.head(10)"
   ]
  },
  {
   "cell_type": "code",
   "execution_count": 8,
   "metadata": {},
   "outputs": [],
   "source": [
    "from sklearn.model_selection import GridSearchCV\n",
    "\n",
    "param_grid = {\n",
    "    'bootstrap': [True],\n",
    "    'n_estimators': [25, 50, 100, 250, 500, 1000],\n",
    "    'max_features': ['auto', 'sqrt', 'log2'],\n",
    "    'max_depth': [8, 12, 16, 32, 50],\n",
    "    'criterion' :['gini', 'entropy']\n",
    "}"
   ]
  },
  {
   "cell_type": "code",
   "execution_count": 9,
   "metadata": {},
   "outputs": [
    {
     "output_type": "stream",
     "name": "stdout",
     "text": [
      "Fitting 5 folds for each of 180 candidates, totalling 900 fits\n",
      "[Parallel(n_jobs=-1)]: Using backend LokyBackend with 12 concurrent workers.\n",
      "[Parallel(n_jobs=-1)]: Done  17 tasks      | elapsed:    5.2s\n",
      "[Parallel(n_jobs=-1)]: Done 138 tasks      | elapsed:   21.7s\n",
      "[Parallel(n_jobs=-1)]: Done 341 tasks      | elapsed:   48.0s\n",
      "[Parallel(n_jobs=-1)]: Done 624 tasks      | elapsed:  1.5min\n",
      "[Parallel(n_jobs=-1)]: Done 900 out of 900 | elapsed:  2.3min finished\n"
     ]
    },
    {
     "output_type": "execute_result",
     "data": {
      "text/plain": [
       "GridSearchCV(cv=5, estimator=RandomForestClassifier(random_state=42), n_jobs=-1,\n",
       "             param_grid={'bootstrap': [True], 'criterion': ['gini', 'entropy'],\n",
       "                         'max_depth': [8, 12, 16, 32, 50],\n",
       "                         'max_features': ['auto', 'sqrt', 'log2'],\n",
       "                         'n_estimators': [25, 50, 100, 250, 500, 1000]},\n",
       "             verbose=2)"
      ]
     },
     "metadata": {},
     "execution_count": 9
    }
   ],
   "source": [
    "from sklearn.ensemble import RandomForestClassifier\n",
    "rf = RandomForestClassifier(random_state = 42)\n",
    "grid_search = GridSearchCV(estimator = rf, param_grid = param_grid, cv = 5, n_jobs = -1, verbose = 2)\n",
    "grid_search.fit(df_train_features, df_train_labels)"
   ]
  },
  {
   "cell_type": "code",
   "execution_count": 30,
   "metadata": {},
   "outputs": [
    {
     "output_type": "execute_result",
     "data": {
      "text/plain": [
       "{'bootstrap': True,\n",
       " 'criterion': 'entropy',\n",
       " 'max_depth': 12,\n",
       " 'max_features': 'auto',\n",
       " 'n_estimators': 25}"
      ]
     },
     "metadata": {},
     "execution_count": 30
    }
   ],
   "source": [
    "grid_search.best_params_"
   ]
  },
  {
   "cell_type": "code",
   "execution_count": 31,
   "metadata": {},
   "outputs": [
    {
     "output_type": "execute_result",
     "data": {
      "text/plain": [
       "RandomForestClassifier(criterion='entropy', max_depth=12, n_estimators=25,\n",
       "                       random_state=42)"
      ]
     },
     "metadata": {},
     "execution_count": 31
    }
   ],
   "source": [
    "rf = RandomForestClassifier(bootstrap = grid_search.best_params_['bootstrap'], criterion = grid_search.best_params_['criterion'], max_depth = grid_search.best_params_['max_depth'], \n",
    "                            max_features = grid_search.best_params_['max_features'], n_estimators = grid_search.best_params_['n_estimators'], random_state = 42)\n",
    "rf.fit(df_train_features, df_train_labels)"
   ]
  },
  {
   "cell_type": "code",
   "execution_count": 32,
   "metadata": {},
   "outputs": [],
   "source": [
    "y_pred = rf.predict(df_test_features)"
   ]
  },
  {
   "cell_type": "code",
   "execution_count": 33,
   "metadata": {},
   "outputs": [],
   "source": [
    "df_pred = pd.DataFrame(data = y_pred)\n",
    "df_pred.to_csv('output.csv', header = ['label'])"
   ]
  },
  {
   "cell_type": "markdown",
   "metadata": {},
   "source": [
    "### Accuracy Test"
   ]
  },
  {
   "cell_type": "code",
   "execution_count": 34,
   "metadata": {},
   "outputs": [],
   "source": [
    "from sklearn.model_selection import train_test_split\n",
    "X_train, X_test, y_train, y_test = train_test_split(df_train_features, df_train_labels, test_size = 0.20)"
   ]
  },
  {
   "cell_type": "code",
   "execution_count": 35,
   "metadata": {},
   "outputs": [
    {
     "output_type": "execute_result",
     "data": {
      "text/plain": [
       "RandomForestClassifier(criterion='entropy', max_depth=12, n_estimators=25,\n",
       "                       random_state=42)"
      ]
     },
     "metadata": {},
     "execution_count": 35
    }
   ],
   "source": [
    "rf = RandomForestClassifier(bootstrap = grid_search.best_params_['bootstrap'], criterion = grid_search.best_params_['criterion'], max_depth = grid_search.best_params_['max_depth'], \n",
    "                            max_features = grid_search.best_params_['max_features'], n_estimators = grid_search.best_params_['n_estimators'], random_state = 42)\n",
    "rf.fit(X_train, y_train)"
   ]
  },
  {
   "cell_type": "code",
   "execution_count": 36,
   "metadata": {},
   "outputs": [],
   "source": [
    "y_pred = rf.predict(X_test)"
   ]
  },
  {
   "cell_type": "code",
   "execution_count": 37,
   "metadata": {},
   "outputs": [],
   "source": [
    "from sklearn import metrics\n",
    "from sklearn.metrics import classification_report, confusion_matrix\n",
    "from sklearn.metrics import accuracy_score"
   ]
  },
  {
   "cell_type": "code",
   "execution_count": 38,
   "metadata": {},
   "outputs": [
    {
     "output_type": "execute_result",
     "data": {
      "text/plain": [
       "0.7875"
      ]
     },
     "metadata": {},
     "execution_count": 38
    }
   ],
   "source": [
    "accuracy_score(y_test, y_pred)"
   ]
  },
  {
   "cell_type": "code",
   "execution_count": 39,
   "metadata": {},
   "outputs": [
    {
     "output_type": "stream",
     "name": "stdout",
     "text": [
      "[[ 6 16]\n [ 1 57]]\n              precision    recall  f1-score   support\n\n           0       0.86      0.27      0.41        22\n           1       0.78      0.98      0.87        58\n\n    accuracy                           0.79        80\n   macro avg       0.82      0.63      0.64        80\nweighted avg       0.80      0.79      0.74        80\n\n"
     ]
    }
   ],
   "source": [
    "print(confusion_matrix(y_test, y_pred))\n",
    "print(classification_report(y_test, y_pred))"
   ]
  },
  {
   "cell_type": "code",
   "execution_count": null,
   "metadata": {},
   "outputs": [],
   "source": []
  }
 ],
 "metadata": {
  "kernelspec": {
   "display_name": "Python 3",
   "language": "python",
   "name": "python3"
  },
  "language_info": {
   "codemirror_mode": {
    "name": "ipython",
    "version": 3
   },
   "file_extension": ".py",
   "mimetype": "text/x-python",
   "name": "python",
   "nbconvert_exporter": "python",
   "pygments_lexer": "ipython3",
   "version": "3.7.6-final"
  }
 },
 "nbformat": 4,
 "nbformat_minor": 4
}