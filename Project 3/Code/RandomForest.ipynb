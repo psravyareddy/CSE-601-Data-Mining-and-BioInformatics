{
 "cells": [
  {
   "cell_type": "markdown",
   "metadata": {
    "id": "1rtvFieGyub-"
   },
   "source": [
    "## Project 3 - Random Forest\n",
    "\n",
    "Team members: Sai Hari Charan, Shravya Pentaparthi, Hemant Koti <br>\n",
    "\n",
    "Random Forest algorithm implementation."
   ]
  },
  {
   "cell_type": "code",
   "execution_count": 25,
   "metadata": {
    "colab": {
     "base_uri": "https://localhost:8080/"
    },
    "id": "8LMScMsxytIS",
    "outputId": "5e090881-5cf9-46e9-da62-a8de6be37769"
   },
   "outputs": [],
   "source": [
    "# from google.colab import drive\n",
    "# drive.mount('/content/drive')"
   ]
  },
  {
   "cell_type": "code",
   "execution_count": 26,
   "metadata": {
    "id": "UapAAgk3x7oB"
   },
   "outputs": [],
   "source": [
    "import traceback \n",
    "import pandas as pd\n",
    "import numpy as np\n",
    "import argparse\n",
    "import json\n",
    "import math\n",
    "\n",
    "import random\n",
    "from random import seed\n",
    "from random import randrange"
   ]
  },
  {
   "cell_type": "code",
   "execution_count": 27,
   "metadata": {
    "id": "7_w59WIdycVo"
   },
   "outputs": [],
   "source": [
    "pd.set_option('display.max_rows', 1000)"
   ]
  },
  {
   "cell_type": "code",
   "execution_count": 28,
   "metadata": {
    "id": "X4FdpuwnyW5w"
   },
   "outputs": [],
   "source": [
    "df = pd.read_csv('../project3_dataset1.txt', sep='\\t', header=None)"
   ]
  },
  {
   "cell_type": "code",
   "execution_count": 29,
   "metadata": {
    "colab": {
     "base_uri": "https://localhost:8080/"
    },
    "id": "0K9c6qNFgRPm",
    "outputId": "dc2ff121-0a38-4be2-8985-7bd676c0ec74"
   },
   "outputs": [
    {
     "data": {
      "text/plain": [
       "(569, 31)"
      ]
     },
     "execution_count": 29,
     "metadata": {},
     "output_type": "execute_result"
    }
   ],
   "source": [
    "df.shape"
   ]
  },
  {
   "cell_type": "code",
   "execution_count": 30,
   "metadata": {
    "id": "LisSJ4XJr5py"
   },
   "outputs": [],
   "source": [
    "# Convert strings to categorical values\n",
    "categorical_index = []\n",
    "for i in range(len(df.columns) - 1):\n",
    "  if str(df.dtypes[i]) == 'object':\n",
    "    categorical_index.append(i)\n",
    "    df[i] = df[i].astype('category').cat.codes\n",
    "  df[i] = df[i].astype(np.float)"
   ]
  },
  {
   "cell_type": "code",
   "execution_count": 31,
   "metadata": {
    "colab": {
     "base_uri": "https://localhost:8080/",
     "height": 379
    },
    "id": "lZasnmeBwtVs",
    "outputId": "63e608c4-570a-4b54-a216-5227fe110254"
   },
   "outputs": [
    {
     "data": {
      "text/html": [
       "<div>\n",
       "<style scoped>\n",
       "    .dataframe tbody tr th:only-of-type {\n",
       "        vertical-align: middle;\n",
       "    }\n",
       "\n",
       "    .dataframe tbody tr th {\n",
       "        vertical-align: top;\n",
       "    }\n",
       "\n",
       "    .dataframe thead th {\n",
       "        text-align: right;\n",
       "    }\n",
       "</style>\n",
       "<table border=\"1\" class=\"dataframe\">\n",
       "  <thead>\n",
       "    <tr style=\"text-align: right;\">\n",
       "      <th></th>\n",
       "      <th>0</th>\n",
       "      <th>1</th>\n",
       "      <th>2</th>\n",
       "      <th>3</th>\n",
       "      <th>4</th>\n",
       "      <th>5</th>\n",
       "      <th>6</th>\n",
       "      <th>7</th>\n",
       "      <th>8</th>\n",
       "      <th>9</th>\n",
       "      <th>...</th>\n",
       "      <th>21</th>\n",
       "      <th>22</th>\n",
       "      <th>23</th>\n",
       "      <th>24</th>\n",
       "      <th>25</th>\n",
       "      <th>26</th>\n",
       "      <th>27</th>\n",
       "      <th>28</th>\n",
       "      <th>29</th>\n",
       "      <th>30</th>\n",
       "    </tr>\n",
       "  </thead>\n",
       "  <tbody>\n",
       "    <tr>\n",
       "      <th>0</th>\n",
       "      <td>20.13</td>\n",
       "      <td>28.25</td>\n",
       "      <td>131.20</td>\n",
       "      <td>1261.0</td>\n",
       "      <td>0.09780</td>\n",
       "      <td>0.10340</td>\n",
       "      <td>0.14400</td>\n",
       "      <td>0.09791</td>\n",
       "      <td>0.1752</td>\n",
       "      <td>0.05533</td>\n",
       "      <td>...</td>\n",
       "      <td>38.25</td>\n",
       "      <td>155.00</td>\n",
       "      <td>1731.0</td>\n",
       "      <td>0.11660</td>\n",
       "      <td>0.19220</td>\n",
       "      <td>0.32150</td>\n",
       "      <td>0.16280</td>\n",
       "      <td>0.2572</td>\n",
       "      <td>0.06637</td>\n",
       "      <td>1</td>\n",
       "    </tr>\n",
       "    <tr>\n",
       "      <th>1</th>\n",
       "      <td>12.45</td>\n",
       "      <td>15.70</td>\n",
       "      <td>82.57</td>\n",
       "      <td>477.1</td>\n",
       "      <td>0.12780</td>\n",
       "      <td>0.17000</td>\n",
       "      <td>0.15780</td>\n",
       "      <td>0.08089</td>\n",
       "      <td>0.2087</td>\n",
       "      <td>0.07613</td>\n",
       "      <td>...</td>\n",
       "      <td>23.75</td>\n",
       "      <td>103.40</td>\n",
       "      <td>741.6</td>\n",
       "      <td>0.17910</td>\n",
       "      <td>0.52490</td>\n",
       "      <td>0.53550</td>\n",
       "      <td>0.17410</td>\n",
       "      <td>0.3985</td>\n",
       "      <td>0.12440</td>\n",
       "      <td>1</td>\n",
       "    </tr>\n",
       "    <tr>\n",
       "      <th>2</th>\n",
       "      <td>11.26</td>\n",
       "      <td>19.96</td>\n",
       "      <td>73.72</td>\n",
       "      <td>394.1</td>\n",
       "      <td>0.08020</td>\n",
       "      <td>0.11810</td>\n",
       "      <td>0.09274</td>\n",
       "      <td>0.05588</td>\n",
       "      <td>0.2595</td>\n",
       "      <td>0.06233</td>\n",
       "      <td>...</td>\n",
       "      <td>22.33</td>\n",
       "      <td>78.27</td>\n",
       "      <td>437.6</td>\n",
       "      <td>0.10280</td>\n",
       "      <td>0.18430</td>\n",
       "      <td>0.15460</td>\n",
       "      <td>0.09314</td>\n",
       "      <td>0.2955</td>\n",
       "      <td>0.07009</td>\n",
       "      <td>0</td>\n",
       "    </tr>\n",
       "    <tr>\n",
       "      <th>3</th>\n",
       "      <td>11.43</td>\n",
       "      <td>15.39</td>\n",
       "      <td>73.06</td>\n",
       "      <td>399.8</td>\n",
       "      <td>0.09639</td>\n",
       "      <td>0.06889</td>\n",
       "      <td>0.03503</td>\n",
       "      <td>0.02875</td>\n",
       "      <td>0.1734</td>\n",
       "      <td>0.05865</td>\n",
       "      <td>...</td>\n",
       "      <td>22.02</td>\n",
       "      <td>79.93</td>\n",
       "      <td>462.0</td>\n",
       "      <td>0.11900</td>\n",
       "      <td>0.16480</td>\n",
       "      <td>0.13990</td>\n",
       "      <td>0.08476</td>\n",
       "      <td>0.2676</td>\n",
       "      <td>0.06765</td>\n",
       "      <td>0</td>\n",
       "    </tr>\n",
       "    <tr>\n",
       "      <th>4</th>\n",
       "      <td>14.61</td>\n",
       "      <td>15.69</td>\n",
       "      <td>92.68</td>\n",
       "      <td>664.9</td>\n",
       "      <td>0.07618</td>\n",
       "      <td>0.03515</td>\n",
       "      <td>0.01447</td>\n",
       "      <td>0.01877</td>\n",
       "      <td>0.1632</td>\n",
       "      <td>0.05255</td>\n",
       "      <td>...</td>\n",
       "      <td>21.75</td>\n",
       "      <td>103.70</td>\n",
       "      <td>840.8</td>\n",
       "      <td>0.10110</td>\n",
       "      <td>0.07087</td>\n",
       "      <td>0.04746</td>\n",
       "      <td>0.05813</td>\n",
       "      <td>0.2530</td>\n",
       "      <td>0.05695</td>\n",
       "      <td>0</td>\n",
       "    </tr>\n",
       "    <tr>\n",
       "      <th>5</th>\n",
       "      <td>15.34</td>\n",
       "      <td>14.26</td>\n",
       "      <td>102.50</td>\n",
       "      <td>704.4</td>\n",
       "      <td>0.10730</td>\n",
       "      <td>0.21350</td>\n",
       "      <td>0.20770</td>\n",
       "      <td>0.09756</td>\n",
       "      <td>0.2521</td>\n",
       "      <td>0.07032</td>\n",
       "      <td>...</td>\n",
       "      <td>19.08</td>\n",
       "      <td>125.10</td>\n",
       "      <td>980.9</td>\n",
       "      <td>0.13900</td>\n",
       "      <td>0.59540</td>\n",
       "      <td>0.63050</td>\n",
       "      <td>0.23930</td>\n",
       "      <td>0.4667</td>\n",
       "      <td>0.09946</td>\n",
       "      <td>1</td>\n",
       "    </tr>\n",
       "    <tr>\n",
       "      <th>6</th>\n",
       "      <td>11.89</td>\n",
       "      <td>17.36</td>\n",
       "      <td>76.20</td>\n",
       "      <td>435.6</td>\n",
       "      <td>0.12250</td>\n",
       "      <td>0.07210</td>\n",
       "      <td>0.05929</td>\n",
       "      <td>0.07404</td>\n",
       "      <td>0.2015</td>\n",
       "      <td>0.05875</td>\n",
       "      <td>...</td>\n",
       "      <td>18.99</td>\n",
       "      <td>79.46</td>\n",
       "      <td>472.4</td>\n",
       "      <td>0.13590</td>\n",
       "      <td>0.08368</td>\n",
       "      <td>0.07153</td>\n",
       "      <td>0.08946</td>\n",
       "      <td>0.2220</td>\n",
       "      <td>0.06033</td>\n",
       "      <td>0</td>\n",
       "    </tr>\n",
       "    <tr>\n",
       "      <th>7</th>\n",
       "      <td>13.75</td>\n",
       "      <td>23.77</td>\n",
       "      <td>88.54</td>\n",
       "      <td>590.0</td>\n",
       "      <td>0.08043</td>\n",
       "      <td>0.06807</td>\n",
       "      <td>0.04697</td>\n",
       "      <td>0.02344</td>\n",
       "      <td>0.1773</td>\n",
       "      <td>0.05429</td>\n",
       "      <td>...</td>\n",
       "      <td>26.34</td>\n",
       "      <td>98.00</td>\n",
       "      <td>706.0</td>\n",
       "      <td>0.09368</td>\n",
       "      <td>0.14420</td>\n",
       "      <td>0.13590</td>\n",
       "      <td>0.06106</td>\n",
       "      <td>0.2663</td>\n",
       "      <td>0.06321</td>\n",
       "      <td>0</td>\n",
       "    </tr>\n",
       "    <tr>\n",
       "      <th>8</th>\n",
       "      <td>15.08</td>\n",
       "      <td>25.74</td>\n",
       "      <td>98.00</td>\n",
       "      <td>716.6</td>\n",
       "      <td>0.10240</td>\n",
       "      <td>0.09769</td>\n",
       "      <td>0.12350</td>\n",
       "      <td>0.06553</td>\n",
       "      <td>0.1647</td>\n",
       "      <td>0.06464</td>\n",
       "      <td>...</td>\n",
       "      <td>33.22</td>\n",
       "      <td>121.20</td>\n",
       "      <td>1050.0</td>\n",
       "      <td>0.16600</td>\n",
       "      <td>0.23560</td>\n",
       "      <td>0.40290</td>\n",
       "      <td>0.15260</td>\n",
       "      <td>0.2654</td>\n",
       "      <td>0.09438</td>\n",
       "      <td>1</td>\n",
       "    </tr>\n",
       "    <tr>\n",
       "      <th>9</th>\n",
       "      <td>19.27</td>\n",
       "      <td>26.47</td>\n",
       "      <td>127.90</td>\n",
       "      <td>1162.0</td>\n",
       "      <td>0.09401</td>\n",
       "      <td>0.17190</td>\n",
       "      <td>0.16570</td>\n",
       "      <td>0.07593</td>\n",
       "      <td>0.1853</td>\n",
       "      <td>0.06261</td>\n",
       "      <td>...</td>\n",
       "      <td>30.90</td>\n",
       "      <td>161.40</td>\n",
       "      <td>1813.0</td>\n",
       "      <td>0.15090</td>\n",
       "      <td>0.65900</td>\n",
       "      <td>0.60910</td>\n",
       "      <td>0.17850</td>\n",
       "      <td>0.3672</td>\n",
       "      <td>0.11230</td>\n",
       "      <td>1</td>\n",
       "    </tr>\n",
       "  </tbody>\n",
       "</table>\n",
       "<p>10 rows × 31 columns</p>\n",
       "</div>"
      ],
      "text/plain": [
       "      0      1       2       3        4        5        6        7       8   \\\n",
       "0  20.13  28.25  131.20  1261.0  0.09780  0.10340  0.14400  0.09791  0.1752   \n",
       "1  12.45  15.70   82.57   477.1  0.12780  0.17000  0.15780  0.08089  0.2087   \n",
       "2  11.26  19.96   73.72   394.1  0.08020  0.11810  0.09274  0.05588  0.2595   \n",
       "3  11.43  15.39   73.06   399.8  0.09639  0.06889  0.03503  0.02875  0.1734   \n",
       "4  14.61  15.69   92.68   664.9  0.07618  0.03515  0.01447  0.01877  0.1632   \n",
       "5  15.34  14.26  102.50   704.4  0.10730  0.21350  0.20770  0.09756  0.2521   \n",
       "6  11.89  17.36   76.20   435.6  0.12250  0.07210  0.05929  0.07404  0.2015   \n",
       "7  13.75  23.77   88.54   590.0  0.08043  0.06807  0.04697  0.02344  0.1773   \n",
       "8  15.08  25.74   98.00   716.6  0.10240  0.09769  0.12350  0.06553  0.1647   \n",
       "9  19.27  26.47  127.90  1162.0  0.09401  0.17190  0.16570  0.07593  0.1853   \n",
       "\n",
       "        9   ...     21      22      23       24       25       26       27  \\\n",
       "0  0.05533  ...  38.25  155.00  1731.0  0.11660  0.19220  0.32150  0.16280   \n",
       "1  0.07613  ...  23.75  103.40   741.6  0.17910  0.52490  0.53550  0.17410   \n",
       "2  0.06233  ...  22.33   78.27   437.6  0.10280  0.18430  0.15460  0.09314   \n",
       "3  0.05865  ...  22.02   79.93   462.0  0.11900  0.16480  0.13990  0.08476   \n",
       "4  0.05255  ...  21.75  103.70   840.8  0.10110  0.07087  0.04746  0.05813   \n",
       "5  0.07032  ...  19.08  125.10   980.9  0.13900  0.59540  0.63050  0.23930   \n",
       "6  0.05875  ...  18.99   79.46   472.4  0.13590  0.08368  0.07153  0.08946   \n",
       "7  0.05429  ...  26.34   98.00   706.0  0.09368  0.14420  0.13590  0.06106   \n",
       "8  0.06464  ...  33.22  121.20  1050.0  0.16600  0.23560  0.40290  0.15260   \n",
       "9  0.06261  ...  30.90  161.40  1813.0  0.15090  0.65900  0.60910  0.17850   \n",
       "\n",
       "       28       29  30  \n",
       "0  0.2572  0.06637   1  \n",
       "1  0.3985  0.12440   1  \n",
       "2  0.2955  0.07009   0  \n",
       "3  0.2676  0.06765   0  \n",
       "4  0.2530  0.05695   0  \n",
       "5  0.4667  0.09946   1  \n",
       "6  0.2220  0.06033   0  \n",
       "7  0.2663  0.06321   0  \n",
       "8  0.2654  0.09438   1  \n",
       "9  0.3672  0.11230   1  \n",
       "\n",
       "[10 rows x 31 columns]"
      ]
     },
     "execution_count": 31,
     "metadata": {},
     "output_type": "execute_result"
    }
   ],
   "source": [
    "df.head(10)"
   ]
  },
  {
   "cell_type": "code",
   "execution_count": 32,
   "metadata": {
    "colab": {
     "base_uri": "https://localhost:8080/"
    },
    "id": "xeEqRXrhgSSD",
    "outputId": "63834b54-498c-46cf-f508-ca6c8bbd2e9c"
   },
   "outputs": [
    {
     "name": "stdout",
     "output_type": "stream",
     "text": [
      "<class 'pandas.core.frame.DataFrame'>\n",
      "RangeIndex: 569 entries, 0 to 568\n",
      "Data columns (total 31 columns):\n",
      " #   Column  Non-Null Count  Dtype  \n",
      "---  ------  --------------  -----  \n",
      " 0   0       569 non-null    float64\n",
      " 1   1       569 non-null    float64\n",
      " 2   2       569 non-null    float64\n",
      " 3   3       569 non-null    float64\n",
      " 4   4       569 non-null    float64\n",
      " 5   5       569 non-null    float64\n",
      " 6   6       569 non-null    float64\n",
      " 7   7       569 non-null    float64\n",
      " 8   8       569 non-null    float64\n",
      " 9   9       569 non-null    float64\n",
      " 10  10      569 non-null    float64\n",
      " 11  11      569 non-null    float64\n",
      " 12  12      569 non-null    float64\n",
      " 13  13      569 non-null    float64\n",
      " 14  14      569 non-null    float64\n",
      " 15  15      569 non-null    float64\n",
      " 16  16      569 non-null    float64\n",
      " 17  17      569 non-null    float64\n",
      " 18  18      569 non-null    float64\n",
      " 19  19      569 non-null    float64\n",
      " 20  20      569 non-null    float64\n",
      " 21  21      569 non-null    float64\n",
      " 22  22      569 non-null    float64\n",
      " 23  23      569 non-null    float64\n",
      " 24  24      569 non-null    float64\n",
      " 25  25      569 non-null    float64\n",
      " 26  26      569 non-null    float64\n",
      " 27  27      569 non-null    float64\n",
      " 28  28      569 non-null    float64\n",
      " 29  29      569 non-null    float64\n",
      " 30  30      569 non-null    int64  \n",
      "dtypes: float64(30), int64(1)\n",
      "memory usage: 137.9 KB\n"
     ]
    }
   ],
   "source": [
    "df.info()"
   ]
  },
  {
   "cell_type": "code",
   "execution_count": 33,
   "metadata": {
    "colab": {
     "base_uri": "https://localhost:8080/"
    },
    "id": "7ttfIcpQ2WU6",
    "outputId": "29ae1500-d17e-4d1b-d6c6-d8d1d7c118ae"
   },
   "outputs": [
    {
     "name": "stdout",
     "output_type": "stream",
     "text": [
      "[[2.013e+01 2.825e+01 1.312e+02 ... 2.572e-01 6.637e-02 1.000e+00]\n",
      " [1.245e+01 1.570e+01 8.257e+01 ... 3.985e-01 1.244e-01 1.000e+00]\n",
      " [1.126e+01 1.996e+01 7.372e+01 ... 2.955e-01 7.009e-02 0.000e+00]\n",
      " ...\n",
      " [1.450e+01 1.089e+01 9.428e+01 ... 2.889e-01 8.006e-02 0.000e+00]\n",
      " [1.236e+01 1.854e+01 7.901e+01 ... 2.983e-01 7.185e-02 0.000e+00]\n",
      " [1.193e+01 2.153e+01 7.653e+01 ... 2.438e-01 8.541e-02 0.000e+00]]\n"
     ]
    }
   ],
   "source": [
    "data = df.to_numpy()\n",
    "print(data)"
   ]
  },
  {
   "cell_type": "code",
   "execution_count": 34,
   "metadata": {
    "id": "YKgppGI6_qVT"
   },
   "outputs": [],
   "source": [
    "# Code: https://machinelearningmastery.com/implement-resampling-methods-scratch-python/\n",
    "def train_test_split(dataset, split=0.9):\n",
    "  train = list()\n",
    "  train_size = split * len(dataset)\n",
    "  dataset_copy = list(dataset)\n",
    "  while len(train) < train_size:\n",
    "      index = randrange(len(dataset_copy))\n",
    "      train.append(dataset_copy.pop(index))\n",
    "\n",
    "  return np.asarray(train), np.asarray(dataset_copy)"
   ]
  },
  {
   "cell_type": "code",
   "execution_count": 35,
   "metadata": {
    "id": "8_3RjbRj84N_"
   },
   "outputs": [],
   "source": [
    "# Split the dataset into K folds\n",
    "# Code: https://machinelearningmastery.com/implement-resampling-methods-scratch-python/\n",
    "def cross_validation_split(dataset, folds=10):\n",
    "    dataset_split = list()\n",
    "    dataset_copy = list(dataset)\n",
    "    fold_size = int(len(dataset) / folds)\n",
    "    for i in range(folds):\n",
    "        fold = list()\n",
    "        while len(fold) < fold_size:\n",
    "            index = randrange(len(dataset_copy))\n",
    "            fold.append(dataset_copy.pop(index))\n",
    "        dataset_split.append(fold)\n",
    "    return np.asarray(dataset_split)"
   ]
  },
  {
   "cell_type": "code",
   "execution_count": 36,
   "metadata": {
    "id": "_9wBsl0j4TPc"
   },
   "outputs": [],
   "source": [
    "class Node:\n",
    "  def __init__(self, left, right, pivotcol, pivotval):\n",
    "    self.left = left\n",
    "    self.right = right\n",
    "    self.column = pivotcol\n",
    "    self.cutoff = pivotval"
   ]
  },
  {
   "cell_type": "code",
   "execution_count": 37,
   "metadata": {
    "id": "WkxWkH8E4naa"
   },
   "outputs": [],
   "source": [
    "class DecisionTree():\n",
    "  def __init__(self, train):\n",
    "    self.node = self.create_node(train)\n",
    "\n",
    "  def split_data(self, data, pivotcol, pivotval):\n",
    "    left = []\n",
    "    right = []\n",
    "    for row in range(len(data)):\n",
    "      if pivotcol in categorical_index:\n",
    "        if data[row][pivotcol] == pivotval:\n",
    "          left.append(data[row])\n",
    "        else:\n",
    "          right.append(data[row])\n",
    "      else:\n",
    "        if data[row][pivotcol] <= pivotval:\n",
    "          left.append(data[row])\n",
    "        else:\n",
    "          right.append(data[row])\n",
    "          \n",
    "    left = np.asarray(left)\n",
    "    right = np.asarray(right)\n",
    "    return left, right\n",
    "    \n",
    "  def gini_index(self, left, right):    \n",
    "    left_one = left_zero = 0\n",
    "    right_one = right_zero = 0\n",
    "      \n",
    "    if len(left) > 0:\n",
    "      left_one = float(np.sum(left[:, -1] == 1)) / len(left)\n",
    "      left_zero = float(np.sum(left[:, -1] == 0)) / len(left)\n",
    "    if len(right) > 0:\n",
    "      right_one = float(np.sum(right[:, -1] == 1)) / len(right)\n",
    "      right_zero = float(np.sum(right[:, -1] == 0)) / len(right)\n",
    "\n",
    "    gini_index_left = 1.0 - (left_one ** 2  + left_zero ** 2)\n",
    "    gini_index_right = 1.0 - (right_one ** 2 + right_zero ** 2)\n",
    "      \n",
    "    return (gini_index_left * len(left) + gini_index_right * len(right)) / (len(left) + len(right))\n",
    "\n",
    "  # BST create node\n",
    "  def create_node(self, data):\n",
    "    min_gini = float('inf')\n",
    "    left = np.array([])\n",
    "    right = np.array([])\n",
    "    pivotval = -1\n",
    "    pivotcol = -1\n",
    "\n",
    "    for col in random.sample(range(0, len(data[0]) - 1), num_features_for_split):\n",
    "      for row in range(len(data)):\n",
    "        _left, _right = self.split_data(data, col, data[row][col])\n",
    "        gini = self.gini_index(_left, _right)\n",
    "        if gini < min_gini:\n",
    "          min_gini = gini\n",
    "          left = _left\n",
    "          right = _right\n",
    "          pivotval = data[row][col]\n",
    "          pivotcol = col\n",
    "    \n",
    "    return Node(left, right, pivotcol, pivotval)\n",
    "\n",
    "  def output(self, left, right):\n",
    "    zero_count = 0\n",
    "    one_count = 0\n",
    "\n",
    "    if len(left) > 0:\n",
    "      zero_count += np.sum(left[:, -1] == 0)\n",
    "      one_count += np.sum(left[:, -1] == 1)\n",
    "\n",
    "    if len(right) > 0:\n",
    "      zero_count += np.sum(right[:, -1] == 0)\n",
    "      one_count += np.sum(right[:, -1] == 1)\n",
    "      \n",
    "    return 1 if one_count > zero_count else 0\n",
    "\n",
    "  # BST traverse and append nodes to left or right\n",
    "  def fit(self, node):\n",
    "    left = node.left\n",
    "    right = node.right\n",
    "\n",
    "    del(node.left)\n",
    "    del(node.right)\n",
    "\n",
    "    if len(left) == 0 or len(right) == 0:\n",
    "      node.left = node.right = self.output(left, right)\n",
    "      return self.node\n",
    "\n",
    "    if len(left) > 0:\n",
    "      node.left = self.output(left, np.array([])) if len(np.unique(left[:,-1])) == 1 else self.fit(self.create_node(left))\n",
    "    if len(right) > 0:\n",
    "      node.right = self.output(np.array([]), right) if len(np.unique(right[:,-1])) == 1 else self.fit(self.create_node(right))\n",
    "\n",
    "    return node"
   ]
  },
  {
   "cell_type": "code",
   "execution_count": 38,
   "metadata": {
    "id": "cyoK7H1mFPCP"
   },
   "outputs": [],
   "source": [
    "# BST search logic\n",
    "def predict(node, test):\n",
    "    \n",
    "  if node == 0 or node == 1:\n",
    "    return node\n",
    "\n",
    "  if node.column in categorical_index:\n",
    "    if test[node.column] == node.cutoff:\n",
    "      return node.left if node.left == 0 or node.left == 1 else predict(node.left, test)\n",
    "    else:\n",
    "      return node.right if node.right == 0 or node.right == 1 else predict(node.right, test)\n",
    "  else:\n",
    "    if test[node.column] < node.cutoff:\n",
    "      return node.left if node.left == 0 or node.left == 1 else predict(node.left, test)\n",
    "    else:\n",
    "      return node.right if node.right == 0 or node.right == 1 else predict(node.right, test)"
   ]
  },
  {
   "cell_type": "code",
   "execution_count": 39,
   "metadata": {
    "id": "nC0iVP3eHMAa"
   },
   "outputs": [],
   "source": [
    "# Code: https://machinelearningmastery.com/implement-machine-learning-algorithm-performance-metrics-scratch-python/\n",
    "def metrics(actual, predicted):\n",
    "  tp = fn = fp = tn = 0\n",
    "\n",
    "  for i in range(len(actual)):\n",
    "    if actual[i] == 1 and predicted[i] == 1:\n",
    "      tp += 1\n",
    "    elif actual[i] == 1 and predicted[i] == 0:\n",
    "      fn += 1\n",
    "    elif actual[i] == 0 and predicted[i] == 1:\n",
    "      fp += 1\n",
    "    elif actual[i] == 0 and predicted[i] == 0:\n",
    "      tn += 1\n",
    "\n",
    "  return tp, fn, fp, tn"
   ]
  },
  {
   "cell_type": "code",
   "execution_count": 40,
   "metadata": {
    "id": "dHmPM4APIdGJ"
   },
   "outputs": [],
   "source": [
    "def randomforest(train, test):\n",
    "  predicted_total = []\n",
    "  for tree in range(n_trees):\n",
    "    sample = train[np.random.choice(len(train), len(train), replace=True), :]\n",
    "    decisiontree = DecisionTree(sample)\n",
    "    parent = decisiontree.fit(decisiontree.node)    \n",
    "\n",
    "    predicted = []\n",
    "    for row in range(len(test)):\n",
    "      predicted.append(predict(parent, test[row]))\n",
    "\n",
    "    predicted_total.append(np.asarray(predicted))\n",
    "\n",
    "  predicted = []\n",
    "  predicted_total = np.transpose(predicted_total)\n",
    "  for row in range(len(predicted_total)):\n",
    "    occurences = np.bincount(predicted_total[row])\n",
    "    predicted.append(np.argmax(occurences))\n",
    "    \n",
    "  return predicted"
   ]
  },
  {
   "cell_type": "markdown",
   "metadata": {
    "id": "CUfNsvuyIcAA"
   },
   "source": [
    "## Random Forest using K fold cross validation for metric evaluation"
   ]
  },
  {
   "cell_type": "code",
   "execution_count": 41,
   "metadata": {
    "id": "dsccHeMuMhpI"
   },
   "outputs": [],
   "source": [
    "num_features_for_split = int(0.2 * len(data[0]))\n",
    "n_trees = 100"
   ]
  },
  {
   "cell_type": "code",
   "execution_count": 42,
   "metadata": {
    "id": "RjiG0COlyZTJ"
   },
   "outputs": [],
   "source": [
    "accuracy = 0\n",
    "precision = 0\n",
    "recall = 0\n",
    "f1 = 0\n",
    "K = 10"
   ]
  },
  {
   "cell_type": "code",
   "execution_count": null,
   "metadata": {
    "colab": {
     "base_uri": "https://localhost:8080/"
    },
    "id": "buWOA2g-4uyl",
    "outputId": "7035701b-b44d-43a9-fdb9-56fc764e8998"
   },
   "outputs": [
    {
     "name": "stdout",
     "output_type": "stream",
     "text": [
      "0\n"
     ]
    }
   ],
   "source": [
    "%%time\n",
    "seed(1)\n",
    "folds = cross_validation_split(data, K)\n",
    "for i in range(len(folds)):\n",
    "  print(i)\n",
    "  test = folds[i]\n",
    "  train = np.array([])\n",
    "  for k in range(len(folds)):\n",
    "    if k != i:  \n",
    "      train = np.vstack((train, folds[k])) if len(train) != 0 else folds[k]\n",
    "\n",
    "  predicted = randomforest(train, test)\n",
    "\n",
    "  tp, fn, fp, tn = metrics(test[:,-1], np.asarray(predicted))\n",
    "  accuracy += float(tp + tn) / (tp + fn + fp + tn)\n",
    "  \n",
    "  if (tp + fp) is not 0:\n",
    "    precision += float(tp) / (tp + fp)\n",
    "\n",
    "  if (tp + fn) is not 0:\n",
    "    recall += float(tp) / (tp + fn)\n",
    "\n",
    "  if (2 * tp + fn + fp) is not 0:\n",
    "    f1 += float(2 * tp) / (2 * tp + fn + fp)"
   ]
  },
  {
   "cell_type": "code",
   "execution_count": null,
   "metadata": {
    "colab": {
     "base_uri": "https://localhost:8080/"
    },
    "id": "sIqXFKWIIIdH",
    "outputId": "e5c1f87d-13ae-43f6-c399-621d7d6a7b09"
   },
   "outputs": [],
   "source": [
    "print(\"Average Accuracy:\", accuracy * K)\n",
    "print(\"Average Precision:\", precision * K)\n",
    "print(\"Average Recall:\", recall * K)\n",
    "print(\"Average F-1 Score:\", f1 * K)"
   ]
  },
  {
   "cell_type": "markdown",
   "metadata": {
    "id": "YMeiAjEGDF8O"
   },
   "source": [
    "## Random Forest using Scikit Learn"
   ]
  },
  {
   "cell_type": "code",
   "execution_count": null,
   "metadata": {
    "id": "BEGw-u6oDarV"
   },
   "outputs": [],
   "source": [
    "X = df.iloc[:, :-1]\n",
    "y = df.iloc[:, -1]"
   ]
  },
  {
   "cell_type": "code",
   "execution_count": null,
   "metadata": {
    "id": "NkX2CwdfDFPW"
   },
   "outputs": [],
   "source": [
    "from sklearn.model_selection import train_test_split\n",
    "X_train, X_test, y_train, y_test = train_test_split(X, y, test_size=0.20)"
   ]
  },
  {
   "cell_type": "code",
   "execution_count": null,
   "metadata": {
    "colab": {
     "base_uri": "https://localhost:8080/"
    },
    "id": "rmweFt6ND4vs",
    "outputId": "61411c4f-edef-4320-c101-c6085d5acfc0"
   },
   "outputs": [],
   "source": [
    "from sklearn.ensemble import RandomForestClassifier\n",
    "classifier = RandomForestClassifier(n_estimators = n_trees, max_features = num_features_for_split, random_state = 42)\n",
    "classifier.fit(X_train, y_train)"
   ]
  },
  {
   "cell_type": "code",
   "execution_count": null,
   "metadata": {
    "id": "nhUxk9HUD7UO"
   },
   "outputs": [],
   "source": [
    "y_pred = classifier.predict(X_test)"
   ]
  },
  {
   "cell_type": "code",
   "execution_count": null,
   "metadata": {
    "colab": {
     "base_uri": "https://localhost:8080/"
    },
    "id": "lWOZHQbzD-RP",
    "outputId": "a7f690e6-38db-447e-a860-c1cc889c72b4"
   },
   "outputs": [],
   "source": [
    "from sklearn import metrics\n",
    "from sklearn.metrics import classification_report, confusion_matrix\n",
    "print(confusion_matrix(y_test, y_pred))\n",
    "print(classification_report(y_test, y_pred))"
   ]
  },
  {
   "cell_type": "markdown",
   "metadata": {
    "id": "AfjqZU1Xy2Or"
   },
   "source": [
    "## References\n",
    "\n",
    "Code\n",
    "  1. https://pbpython.com/categorical-encoding.html\n",
    "  2. https://machinelearningmastery.com/implement-resampling-methods-scratch-python/\n",
    "  3. https://medium.com/@penggongting/implementing-decision-tree-from-scratch-in-python-c732e7c69aea\n",
    "  4. https://machinelearningmastery.com/implement-decision-tree-algorithm-scratch-python/\n",
    "  5. https://machinelearningmastery.com/implement-machine-learning-algorithm-performance-metrics-scratch-python/\n",
    "  6. https://machinelearningmastery.com/implement-random-forest-scratch-python/\n",
    "\n",
    "Readings\n",
    "  1. https://www.analyticsvidhya.com/blog/2020/10/all-about-decision-tree-from-scratch-with-python-implementation/\n",
    "  2. https://medium.com/@penggongting/implementing-decision-tree-from-scratch-in-python-c732e7c69aea\n",
    "  3. https://blog.exsilio.com/all/accuracy-precision-recall-f1-score-interpretation-of-performance-measures/\n",
    "  4. https://towardsdatascience.com/random-forests-and-decision-trees-from-scratch-in-python-3e4fa5ae4249"
   ]
  }
 ],
 "metadata": {
  "colab": {
   "collapsed_sections": [],
   "name": "Random Forest.ipynb",
   "provenance": [],
   "toc_visible": true
  },
  "kernelspec": {
   "display_name": "Python 3",
   "language": "python",
   "name": "python3"
  },
  "language_info": {
   "codemirror_mode": {
    "name": "ipython",
    "version": 3
   },
   "file_extension": ".py",
   "mimetype": "text/x-python",
   "name": "python",
   "nbconvert_exporter": "python",
   "pygments_lexer": "ipython3",
   "version": "3.7.6"
  }
 },
 "nbformat": 4,
 "nbformat_minor": 4
}
