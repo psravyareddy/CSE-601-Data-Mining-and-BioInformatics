{
 "cells": [
  {
   "cell_type": "markdown",
   "metadata": {
    "id": "1rtvFieGyub-"
   },
   "source": [
    "## Project 3 - Decision Tree\n",
    "\n",
    "Team members: Sai Hari Charan, Shravya Pentaparthi, Hemant Koti <br>\n",
    "\n",
    "Decision tree algorithm implementation."
   ]
  },
  {
   "cell_type": "code",
   "execution_count": 235,
   "metadata": {
    "colab": {
     "base_uri": "https://localhost:8080/"
    },
    "id": "8LMScMsxytIS",
    "outputId": "525e933a-1933-49c3-eae2-d4086595f865"
   },
   "outputs": [],
   "source": [
    "# from google.colab import drive\n",
    "# drive.mount('/content/drive')"
   ]
  },
  {
   "cell_type": "code",
   "execution_count": 236,
   "metadata": {
    "id": "UapAAgk3x7oB"
   },
   "outputs": [],
   "source": [
    "import traceback \n",
    "import pandas as pd\n",
    "import numpy as np\n",
    "import argparse\n",
    "import json\n",
    "\n",
    "import random\n",
    "from random import seed\n",
    "from random import randrange"
   ]
  },
  {
   "cell_type": "code",
   "execution_count": 237,
   "metadata": {
    "id": "7_w59WIdycVo"
   },
   "outputs": [],
   "source": [
    "pd.set_option('display.max_rows', 1000)"
   ]
  },
  {
   "cell_type": "code",
   "execution_count": 238,
   "metadata": {
    "id": "X4FdpuwnyW5w"
   },
   "outputs": [],
   "source": [
    "df = pd.read_csv('../project3_dataset4.txt', sep='\\t', header=None)"
   ]
  },
  {
   "cell_type": "code",
   "execution_count": 239,
   "metadata": {
    "colab": {
     "base_uri": "https://localhost:8080/"
    },
    "id": "0K9c6qNFgRPm",
    "outputId": "030be9c9-82ae-4024-fb46-4a6624b75877"
   },
   "outputs": [
    {
     "output_type": "execute_result",
     "data": {
      "text/plain": [
       "(14, 5)"
      ]
     },
     "metadata": {},
     "execution_count": 239
    }
   ],
   "source": [
    "df.shape"
   ]
  },
  {
   "cell_type": "code",
   "execution_count": 240,
   "metadata": {
    "id": "LisSJ4XJr5py"
   },
   "outputs": [],
   "source": [
    "# Convert strings to categorical values\n",
    "categorical_index = []\n",
    "for i in range(len(df.columns) - 1):\n",
    "  if str(df.dtypes[i]) == 'object':\n",
    "    categorical_index.append(i)\n",
    "    df[i] = df[i].astype('category').cat.codes\n",
    "  df[i] = df[i].astype(np.float)"
   ]
  },
  {
   "cell_type": "code",
   "execution_count": 241,
   "metadata": {
    "colab": {
     "base_uri": "https://localhost:8080/",
     "height": 379
    },
    "id": "lZasnmeBwtVs",
    "outputId": "b412c69f-7324-4d80-871d-92b67eadf162"
   },
   "outputs": [
    {
     "output_type": "execute_result",
     "data": {
      "text/plain": [
       "     0    1    2    3  4\n",
       "0  2.0  1.0  0.0  1.0  0\n",
       "1  2.0  1.0  0.0  0.0  0\n",
       "2  0.0  1.0  0.0  1.0  1\n",
       "3  1.0  2.0  0.0  1.0  1\n",
       "4  1.0  0.0  1.0  1.0  1\n",
       "5  1.0  0.0  1.0  0.0  0\n",
       "6  0.0  0.0  1.0  0.0  1\n",
       "7  2.0  2.0  0.0  1.0  0\n",
       "8  2.0  0.0  1.0  1.0  1\n",
       "9  1.0  2.0  1.0  1.0  1"
      ],
      "text/html": "<div>\n<style scoped>\n    .dataframe tbody tr th:only-of-type {\n        vertical-align: middle;\n    }\n\n    .dataframe tbody tr th {\n        vertical-align: top;\n    }\n\n    .dataframe thead th {\n        text-align: right;\n    }\n</style>\n<table border=\"1\" class=\"dataframe\">\n  <thead>\n    <tr style=\"text-align: right;\">\n      <th></th>\n      <th>0</th>\n      <th>1</th>\n      <th>2</th>\n      <th>3</th>\n      <th>4</th>\n    </tr>\n  </thead>\n  <tbody>\n    <tr>\n      <th>0</th>\n      <td>2.0</td>\n      <td>1.0</td>\n      <td>0.0</td>\n      <td>1.0</td>\n      <td>0</td>\n    </tr>\n    <tr>\n      <th>1</th>\n      <td>2.0</td>\n      <td>1.0</td>\n      <td>0.0</td>\n      <td>0.0</td>\n      <td>0</td>\n    </tr>\n    <tr>\n      <th>2</th>\n      <td>0.0</td>\n      <td>1.0</td>\n      <td>0.0</td>\n      <td>1.0</td>\n      <td>1</td>\n    </tr>\n    <tr>\n      <th>3</th>\n      <td>1.0</td>\n      <td>2.0</td>\n      <td>0.0</td>\n      <td>1.0</td>\n      <td>1</td>\n    </tr>\n    <tr>\n      <th>4</th>\n      <td>1.0</td>\n      <td>0.0</td>\n      <td>1.0</td>\n      <td>1.0</td>\n      <td>1</td>\n    </tr>\n    <tr>\n      <th>5</th>\n      <td>1.0</td>\n      <td>0.0</td>\n      <td>1.0</td>\n      <td>0.0</td>\n      <td>0</td>\n    </tr>\n    <tr>\n      <th>6</th>\n      <td>0.0</td>\n      <td>0.0</td>\n      <td>1.0</td>\n      <td>0.0</td>\n      <td>1</td>\n    </tr>\n    <tr>\n      <th>7</th>\n      <td>2.0</td>\n      <td>2.0</td>\n      <td>0.0</td>\n      <td>1.0</td>\n      <td>0</td>\n    </tr>\n    <tr>\n      <th>8</th>\n      <td>2.0</td>\n      <td>0.0</td>\n      <td>1.0</td>\n      <td>1.0</td>\n      <td>1</td>\n    </tr>\n    <tr>\n      <th>9</th>\n      <td>1.0</td>\n      <td>2.0</td>\n      <td>1.0</td>\n      <td>1.0</td>\n      <td>1</td>\n    </tr>\n  </tbody>\n</table>\n</div>"
     },
     "metadata": {},
     "execution_count": 241
    }
   ],
   "source": [
    "df.head(10)"
   ]
  },
  {
   "cell_type": "code",
   "execution_count": 242,
   "metadata": {
    "colab": {
     "base_uri": "https://localhost:8080/"
    },
    "id": "xeEqRXrhgSSD",
    "outputId": "4eab36a7-65d7-4ae6-f5cd-c22f083bf472"
   },
   "outputs": [
    {
     "output_type": "stream",
     "name": "stdout",
     "text": [
      "<class 'pandas.core.frame.DataFrame'>\nRangeIndex: 14 entries, 0 to 13\nData columns (total 5 columns):\n #   Column  Non-Null Count  Dtype  \n---  ------  --------------  -----  \n 0   0       14 non-null     float64\n 1   1       14 non-null     float64\n 2   2       14 non-null     float64\n 3   3       14 non-null     float64\n 4   4       14 non-null     int64  \ndtypes: float64(4), int64(1)\nmemory usage: 688.0 bytes\n"
     ]
    }
   ],
   "source": [
    "df.info()"
   ]
  },
  {
   "cell_type": "code",
   "execution_count": 243,
   "metadata": {
    "colab": {
     "base_uri": "https://localhost:8080/"
    },
    "id": "7ttfIcpQ2WU6",
    "outputId": "ce377cc0-1536-419f-b9ca-e25bd175d6d8"
   },
   "outputs": [
    {
     "output_type": "stream",
     "name": "stdout",
     "text": [
      "[[2. 1. 0. 1. 0.]\n [2. 1. 0. 0. 0.]\n [0. 1. 0. 1. 1.]\n [1. 2. 0. 1. 1.]\n [1. 0. 1. 1. 1.]\n [1. 0. 1. 0. 0.]\n [0. 0. 1. 0. 1.]\n [2. 2. 0. 1. 0.]\n [2. 0. 1. 1. 1.]\n [1. 2. 1. 1. 1.]\n [2. 2. 1. 0. 1.]\n [0. 2. 0. 0. 1.]\n [0. 1. 1. 1. 1.]\n [1. 2. 0. 0. 0.]]\n"
     ]
    }
   ],
   "source": [
    "data = df.to_numpy()\n",
    "print(data)"
   ]
  },
  {
   "cell_type": "code",
   "execution_count": 244,
   "metadata": {
    "id": "YKgppGI6_qVT"
   },
   "outputs": [],
   "source": [
    "# Code: https://machinelearningmastery.com/implement-resampling-methods-scratch-python/\n",
    "def train_test_split(dataset, split=0.9):\n",
    "  train = list()\n",
    "  train_size = split * len(dataset)\n",
    "  dataset_copy = list(dataset)\n",
    "  while len(train) < train_size:\n",
    "      index = randrange(len(dataset_copy))\n",
    "      train.append(dataset_copy.pop(index))\n",
    "\n",
    "  return np.asarray(train), np.asarray(dataset_copy)"
   ]
  },
  {
   "cell_type": "code",
   "execution_count": 245,
   "metadata": {
    "id": "8_3RjbRj84N_"
   },
   "outputs": [],
   "source": [
    "# Split the dataset into K folds\n",
    "# Code: https://machinelearningmastery.com/implement-resampling-methods-scratch-python/\n",
    "def cross_validation_split(dataset, folds=10):\n",
    "    dataset_split = list()\n",
    "    dataset_copy = list(dataset)\n",
    "    fold_size = int(len(dataset) / folds)\n",
    "    for i in range(folds):\n",
    "        fold = list()\n",
    "        while len(fold) < fold_size:\n",
    "            index = randrange(len(dataset_copy))\n",
    "            fold.append(dataset_copy.pop(index))\n",
    "        dataset_split.append(fold)\n",
    "    return np.asarray(dataset_split)"
   ]
  },
  {
   "cell_type": "code",
   "execution_count": 246,
   "metadata": {
    "id": "_9wBsl0j4TPc"
   },
   "outputs": [],
   "source": [
    "class Node:\n",
    "  def __init__(self, left, right, pivotcol, pivotval):\n",
    "    self.left = left\n",
    "    self.right = right\n",
    "    self.column = pivotcol\n",
    "    self.cutoff = pivotval"
   ]
  },
  {
   "cell_type": "code",
   "execution_count": 247,
   "metadata": {
    "id": "WkxWkH8E4naa"
   },
   "outputs": [],
   "source": [
    "class DecisionTree():\n",
    "  def __init__(self, train):\n",
    "    self.node = self.create_node(train)\n",
    "\n",
    "  def split_data(self, data, pivotcol, pivotval):\n",
    "    left = []\n",
    "    right = []\n",
    "    for row in range(len(data)):\n",
    "      if pivotcol in categorical_index:\n",
    "        if data[row][pivotcol] == pivotval:\n",
    "          left.append(data[row])\n",
    "        else:\n",
    "          right.append(data[row])\n",
    "      else:\n",
    "        if data[row][pivotcol] <= pivotval:\n",
    "          left.append(data[row])\n",
    "        else:\n",
    "          right.append(data[row])\n",
    "          \n",
    "    left = np.asarray(left)\n",
    "    right = np.asarray(right)\n",
    "    return left, right\n",
    "    \n",
    "  def gini_index(self, left, right):    \n",
    "    left_one = left_zero = 0\n",
    "    right_one = right_zero = 0\n",
    "      \n",
    "    if len(left) > 0:\n",
    "      left_one = float(np.sum(left[:, -1] == 1)) / len(left)\n",
    "      left_zero = float(np.sum(left[:, -1] == 0)) / len(left)\n",
    "    if len(right) > 0:\n",
    "      right_one = float(np.sum(right[:, -1] == 1)) / len(right)\n",
    "      right_zero = float(np.sum(right[:, -1] == 0)) / len(right)\n",
    "\n",
    "    gini_index_left = 1.0 - (left_one ** 2  + left_zero ** 2)\n",
    "    gini_index_right = 1.0 - (right_one ** 2 + right_zero ** 2)\n",
    "      \n",
    "    return (gini_index_left * len(left) + gini_index_right * len(right)) / (len(left) + len(right))\n",
    "\n",
    "  # BST create node\n",
    "  def create_node(self, data):\n",
    "    min_gini = float('inf')\n",
    "    left = np.array([])\n",
    "    right = np.array([])\n",
    "    pivotval = -1\n",
    "    pivotcol = -1\n",
    "\n",
    "    for col in range(len(data[0]) - 1):\n",
    "      for row in range(len(data)):\n",
    "        _left, _right = self.split_data(data, col, data[row][col])\n",
    "        gini = self.gini_index(_left, _right)\n",
    "        if gini < min_gini:\n",
    "          min_gini = gini\n",
    "          left = _left\n",
    "          right = _right\n",
    "          pivotval = data[row][col]\n",
    "          pivotcol = col\n",
    "    \n",
    "    return Node(left, right, pivotcol, pivotval)\n",
    "\n",
    "  def output(self, left, right):\n",
    "    zero_count = 0\n",
    "    one_count = 0\n",
    "\n",
    "    if len(left) > 0:\n",
    "      zero_count += np.sum(left[:, -1] == 0)\n",
    "      one_count += np.sum(left[:, -1] == 1)\n",
    "\n",
    "    if len(right) > 0:\n",
    "      zero_count += np.sum(right[:, -1] == 0)\n",
    "      one_count += np.sum(right[:, -1] == 1)\n",
    "      \n",
    "    return 1 if one_count > zero_count else 0\n",
    "\n",
    "  # BST traverse and append nodes to left or right\n",
    "  def fit(self, node):\n",
    "    left = node.left\n",
    "    right = node.right\n",
    "\n",
    "    del(node.left)\n",
    "    del(node.right)\n",
    "\n",
    "    if len(left) == 0 or len(right) == 0:\n",
    "      node.left = node.right = self.output(left, right)\n",
    "      return self.node\n",
    "\n",
    "    if len(left) > 0:\n",
    "      node.left = self.output(left, np.array([])) if len(np.unique(left[:,-1])) == 1 else self.fit(self.create_node(left))\n",
    "    if len(right) > 0:\n",
    "      node.right = self.output(np.array([]), right) if len(np.unique(right[:,-1])) == 1 else self.fit(self.create_node(right))\n",
    "\n",
    "    return node"
   ]
  },
  {
   "cell_type": "code",
   "execution_count": 248,
   "metadata": {
    "id": "cyoK7H1mFPCP"
   },
   "outputs": [],
   "source": [
    "# BST search logic\n",
    "def predict(node, test):\n",
    "    \n",
    "  if node == 0 or node == 1:\n",
    "    return node\n",
    "\n",
    "  if node.column in categorical_index:\n",
    "    if test[node.column] == node.cutoff:\n",
    "      return node.left if node.left == 0 or node.left == 1 else predict(node.left, test)\n",
    "    else:\n",
    "      return node.right if node.right == 0 or node.right == 1 else predict(node.right, test)\n",
    "  else:\n",
    "    if test[node.column] < node.cutoff:\n",
    "      return node.left if node.left == 0 or node.left == 1 else predict(node.left, test)\n",
    "    else:\n",
    "      return node.right if node.right == 0 or node.right == 1 else predict(node.right, test)"
   ]
  },
  {
   "cell_type": "code",
   "execution_count": 249,
   "metadata": {
    "id": "nC0iVP3eHMAa"
   },
   "outputs": [],
   "source": [
    "# Code: https://machinelearningmastery.com/implement-machine-learning-algorithm-performance-metrics-scratch-python/\n",
    "def metrics(actual, predicted):\n",
    "  tp = fn = fp = tn = 0\n",
    "\n",
    "  for i in range(len(actual)):\n",
    "    if actual[i] == 1 and predicted[i] == 1:\n",
    "      tp += 1\n",
    "    elif actual[i] == 1 and predicted[i] == 0:\n",
    "      fn += 1\n",
    "    elif actual[i] == 0 and predicted[i] == 1:\n",
    "      fp += 1\n",
    "    elif actual[i] == 0 and predicted[i] == 0:\n",
    "      tn += 1\n",
    "\n",
    "  return tp, fn, fp, tn"
   ]
  },
  {
   "cell_type": "markdown",
   "metadata": {
    "id": "7sjhv1DzIWiu"
   },
   "source": [
    "## Decision tree on entire dataset"
   ]
  },
  {
   "cell_type": "code",
   "execution_count": 250,
   "metadata": {
    "id": "s4bKFKgiHst9"
   },
   "outputs": [],
   "source": [
    "accuracy = 0\n",
    "precision = 0\n",
    "recall = 0\n",
    "f1 = 0"
   ]
  },
  {
   "cell_type": "code",
   "execution_count": 251,
   "metadata": {
    "colab": {
     "base_uri": "https://localhost:8080/"
    },
    "id": "yeBI6eAmHoNQ",
    "outputId": "1655b93e-3131-42fe-ca4a-1a13eb487c43"
   },
   "outputs": [
    {
     "output_type": "stream",
     "name": "stdout",
     "text": [
      "{\n    \"column\": 2,\n    \"cutoff\": 0.0,\n    \"left\": {\n        \"column\": 0,\n        \"cutoff\": 2.0,\n        \"left\": 0,\n        \"right\": {\n            \"column\": 0,\n            \"cutoff\": 0.0,\n            \"left\": 1,\n            \"right\": {\n                \"column\": 3,\n                \"cutoff\": 1.0,\n                \"left\": 1,\n                \"right\": 0\n            }\n        }\n    },\n    \"right\": 1\n}\n\n"
     ]
    }
   ],
   "source": [
    "seed(1)\n",
    "train, test = train_test_split(data)\n",
    "decisiontree = DecisionTree(train)\n",
    "parent = decisiontree.fit(decisiontree.node)\n",
    "\n",
    "print(json.dumps(parent, default=lambda x: x.__dict__ , indent = 4, sort_keys=True))\n",
    "print()\n",
    "\n",
    "predicted = []\n",
    "for row in range(len(test)):\n",
    "  predicted.append(predict(parent, test[row]))\n",
    "\n",
    "tp, fn, fp, tn = metrics(test[:,-1], np.asarray(predicted))\n",
    "accuracy += float(tp + tn) / (tp + fn + fp + tn)\n",
    "\n",
    "if (tp + fp) is not 0:\n",
    "  precision += float(tp) / (tp + fp)\n",
    "\n",
    "if (tp + fn) is not 0:\n",
    "  recall += float(tp) / (tp + fn)\n",
    "\n",
    "if (2 * tp + fn + fp) is not 0:\n",
    "  f1 += float(2 * tp) / (2 * tp + fn + fp)"
   ]
  },
  {
   "cell_type": "code",
   "execution_count": 252,
   "metadata": {
    "colab": {
     "base_uri": "https://localhost:8080/"
    },
    "id": "IpGWdh2VIFup",
    "outputId": "6b2b9496-b68c-41fd-e80d-5099d49b6733"
   },
   "outputs": [
    {
     "output_type": "stream",
     "name": "stdout",
     "text": [
      "Accuracy: 0.0\nPrecision: 0.0\nRecall: 0\nF-1 Score: 0.0\n"
     ]
    }
   ],
   "source": [
    "print(\"Accuracy:\", accuracy * 100)\n",
    "print(\"Precision:\", precision * 100)\n",
    "print(\"Recall:\", recall * 100)\n",
    "print(\"F-1 Score:\", f1 * 100)"
   ]
  },
  {
   "cell_type": "markdown",
   "metadata": {
    "id": "CUfNsvuyIcAA"
   },
   "source": [
    "## Decision tree using K fold cross validation for metric evaluation"
   ]
  },
  {
   "cell_type": "code",
   "execution_count": 253,
   "metadata": {
    "id": "RjiG0COlyZTJ"
   },
   "outputs": [],
   "source": [
    "accuracy = 0\n",
    "precision = 0\n",
    "recall = 0\n",
    "f1 = 0\n",
    "K = 10"
   ]
  },
  {
   "cell_type": "code",
   "execution_count": 254,
   "metadata": {
    "colab": {
     "base_uri": "https://localhost:8080/"
    },
    "id": "buWOA2g-4uyl",
    "outputId": "194a8c16-b072-4385-8283-75fc98137416"
   },
   "outputs": [
    {
     "output_type": "stream",
     "name": "stdout",
     "text": [
      "Tree for K fold: 0\n{\n    \"column\": 2,\n    \"cutoff\": 1.0,\n    \"left\": 1,\n    \"right\": {\n        \"column\": 0,\n        \"cutoff\": 2.0,\n        \"left\": 0,\n        \"right\": {\n            \"column\": 0,\n            \"cutoff\": 1.0,\n            \"left\": {\n                \"column\": 3,\n                \"cutoff\": 1.0,\n                \"left\": 1,\n                \"right\": 0\n            },\n            \"right\": 1\n        }\n    }\n}\n\nTree for K fold: 1\n{\n    \"column\": 0,\n    \"cutoff\": 0.0,\n    \"left\": 1,\n    \"right\": {\n        \"column\": 3,\n        \"cutoff\": 0.0,\n        \"left\": 0,\n        \"right\": {\n            \"column\": 0,\n            \"cutoff\": 1.0,\n            \"left\": 1,\n            \"right\": {\n                \"column\": 1,\n                \"cutoff\": 2.0,\n                \"left\": 0,\n                \"right\": 1\n            }\n        }\n    }\n}\n\nTree for K fold: 2\n{\n    \"column\": 0,\n    \"cutoff\": 0.0,\n    \"left\": 1,\n    \"right\": {\n        \"column\": 2,\n        \"cutoff\": 1.0,\n        \"left\": 1,\n        \"right\": {\n            \"column\": 0,\n            \"cutoff\": 1.0,\n            \"left\": {\n                \"column\": 3,\n                \"cutoff\": 1.0,\n                \"left\": 1,\n                \"right\": 0\n            },\n            \"right\": 0\n        }\n    }\n}\n\nTree for K fold: 3\n{\n    \"column\": 0,\n    \"cutoff\": 0.0,\n    \"left\": 1,\n    \"right\": {\n        \"column\": 2,\n        \"cutoff\": 1.0,\n        \"left\": 1,\n        \"right\": {\n            \"column\": 0,\n            \"cutoff\": 2.0,\n            \"left\": 0,\n            \"right\": {\n                \"column\": 3,\n                \"cutoff\": 1.0,\n                \"left\": 1,\n                \"right\": 0\n            }\n        }\n    }\n}\n\nTree for K fold: 4\n{\n    \"column\": 0,\n    \"cutoff\": 0.0,\n    \"left\": 1,\n    \"right\": {\n        \"column\": 2,\n        \"cutoff\": 1.0,\n        \"left\": 1,\n        \"right\": 0\n    }\n}\n\nTree for K fold: 5\n{\n    \"column\": 0,\n    \"cutoff\": 0.0,\n    \"left\": 1,\n    \"right\": {\n        \"column\": 2,\n        \"cutoff\": 1.0,\n        \"left\": 1,\n        \"right\": {\n            \"column\": 0,\n            \"cutoff\": 2.0,\n            \"left\": 0,\n            \"right\": {\n                \"column\": 3,\n                \"cutoff\": 1.0,\n                \"left\": 1,\n                \"right\": 0\n            }\n        }\n    }\n}\n\nTree for K fold: 6\n{\n    \"column\": 0,\n    \"cutoff\": 2.0,\n    \"left\": {\n        \"column\": 2,\n        \"cutoff\": 1.0,\n        \"left\": 1,\n        \"right\": 0\n    },\n    \"right\": 1\n}\n\nTree for K fold: 7\n{\n    \"column\": 0,\n    \"cutoff\": 0.0,\n    \"left\": 1,\n    \"right\": {\n        \"column\": 2,\n        \"cutoff\": 1.0,\n        \"left\": 1,\n        \"right\": {\n            \"column\": 3,\n            \"cutoff\": 0.0,\n            \"left\": 0,\n            \"right\": 1\n        }\n    }\n}\n\nTree for K fold: 8\n{\n    \"column\": 2,\n    \"cutoff\": 0.0,\n    \"left\": {\n        \"column\": 0,\n        \"cutoff\": 2.0,\n        \"left\": 0,\n        \"right\": {\n            \"column\": 3,\n            \"cutoff\": 1.0,\n            \"left\": 1,\n            \"right\": 0\n        }\n    },\n    \"right\": 1\n}\n\nTree for K fold: 9\n{\n    \"column\": 0,\n    \"cutoff\": 0.0,\n    \"left\": 1,\n    \"right\": {\n        \"column\": 2,\n        \"cutoff\": 1.0,\n        \"left\": 1,\n        \"right\": {\n            \"column\": 0,\n            \"cutoff\": 2.0,\n            \"left\": 0,\n            \"right\": {\n                \"column\": 3,\n                \"cutoff\": 1.0,\n                \"left\": 1,\n                \"right\": 0\n            }\n        }\n    }\n}\n\n"
     ]
    }
   ],
   "source": [
    "seed(1)\n",
    "folds = cross_validation_split(data, K)\n",
    "for i in range(len(folds)):\n",
    "  print(\"Tree for K fold:\", i)\n",
    "\n",
    "  test = folds[i]\n",
    "  train = np.array([])\n",
    "  for k in range(len(folds)):\n",
    "    if k != i:\n",
    "      train = np.vstack((train, folds[k])) if len(train) != 0 else folds[k]\n",
    "\n",
    "  decisiontree = DecisionTree(train)\n",
    "  parent = decisiontree.fit(decisiontree.node)\n",
    "\n",
    "  print(json.dumps(parent, default=lambda x: x.__dict__ , indent = 4, sort_keys=True))\n",
    "  print()\n",
    "\n",
    "  predicted = []\n",
    "  for row in range(len(test)):\n",
    "    predicted.append(predict(parent, test[row]))\n",
    "\n",
    "  tp, fn, fp, tn = metrics(test[:,-1], np.asarray(predicted))\n",
    "  accuracy += float(tp + tn) / (tp + fn + fp + tn)\n",
    "  \n",
    "  if (tp + fp) is not 0:\n",
    "    precision += float(tp) / (tp + fp)\n",
    "\n",
    "  if (tp + fn) is not 0:\n",
    "    recall += float(tp) / (tp + fn)\n",
    "\n",
    "  if (2 * tp + fn + fp) is not 0:\n",
    "    f1 += float(2 * tp) / (2 * tp + fn + fp)"
   ]
  },
  {
   "cell_type": "code",
   "execution_count": 255,
   "metadata": {
    "colab": {
     "base_uri": "https://localhost:8080/"
    },
    "id": "sIqXFKWIIIdH",
    "outputId": "084c040a-a8a3-47ee-801e-2becb5b03dd0"
   },
   "outputs": [
    {
     "output_type": "stream",
     "name": "stdout",
     "text": [
      "Average Accuracy: 50.0\nAverage Precision: 40.0\nAverage Recall: 40.0\nAverage F-1 Score: 40.0\n"
     ]
    }
   ],
   "source": [
    "print(\"Average Accuracy:\", accuracy * K)\n",
    "print(\"Average Precision:\", precision * K)\n",
    "print(\"Average Recall:\", recall * K)\n",
    "print(\"Average F-1 Score:\", f1 * K)"
   ]
  },
  {
   "cell_type": "markdown",
   "metadata": {
    "id": "YMeiAjEGDF8O"
   },
   "source": [
    "## Decision Tree using Scikit Learn"
   ]
  },
  {
   "cell_type": "code",
   "execution_count": 256,
   "metadata": {
    "id": "BEGw-u6oDarV"
   },
   "outputs": [],
   "source": [
    "X = df.iloc[:, :-1]\n",
    "y = df.iloc[:, -1]"
   ]
  },
  {
   "cell_type": "code",
   "execution_count": 257,
   "metadata": {
    "id": "NkX2CwdfDFPW"
   },
   "outputs": [],
   "source": [
    "from sklearn.model_selection import train_test_split\n",
    "X_train, X_test, y_train, y_test = train_test_split(X, y, test_size=0.20)"
   ]
  },
  {
   "cell_type": "code",
   "execution_count": 258,
   "metadata": {
    "colab": {
     "base_uri": "https://localhost:8080/"
    },
    "id": "rmweFt6ND4vs",
    "outputId": "a186e7f8-a758-402d-dd41-2136ac9a75e1"
   },
   "outputs": [
    {
     "output_type": "execute_result",
     "data": {
      "text/plain": [
       "DecisionTreeClassifier()"
      ]
     },
     "metadata": {},
     "execution_count": 258
    }
   ],
   "source": [
    "from sklearn.tree import DecisionTreeClassifier\n",
    "classifier = DecisionTreeClassifier()\n",
    "classifier.fit(X_train, y_train)"
   ]
  },
  {
   "cell_type": "code",
   "execution_count": 259,
   "metadata": {
    "id": "nhUxk9HUD7UO"
   },
   "outputs": [],
   "source": [
    "y_pred = classifier.predict(X_test)"
   ]
  },
  {
   "cell_type": "code",
   "execution_count": 260,
   "metadata": {
    "colab": {
     "base_uri": "https://localhost:8080/"
    },
    "id": "lWOZHQbzD-RP",
    "outputId": "de1c3d43-2916-466d-e0b7-eb7915c3e849"
   },
   "outputs": [
    {
     "output_type": "stream",
     "name": "stdout",
     "text": [
      "[[2 0]\n [1 0]]\n              precision    recall  f1-score   support\n\n           0       0.67      1.00      0.80         2\n           1       0.00      0.00      0.00         1\n\n    accuracy                           0.67         3\n   macro avg       0.33      0.50      0.40         3\nweighted avg       0.44      0.67      0.53         3\n\n"
     ]
    }
   ],
   "source": [
    "from sklearn import metrics\n",
    "from sklearn.metrics import classification_report, confusion_matrix\n",
    "print(confusion_matrix(y_test, y_pred))\n",
    "print(classification_report(y_test, y_pred))"
   ]
  },
  {
   "cell_type": "markdown",
   "metadata": {
    "id": "AfjqZU1Xy2Or"
   },
   "source": [
    "## References\n",
    "\n",
    "Code\n",
    "  1. https://pbpython.com/categorical-encoding.html\n",
    "  2. https://machinelearningmastery.com/implement-resampling-methods-scratch-python/\n",
    "  3. https://medium.com/@penggongting/implementing-decision-tree-from-scratch-in-python-c732e7c69aea\n",
    "  4. https://machinelearningmastery.com/implement-decision-tree-algorithm-scratch-python/\n",
    "  5. https://machinelearningmastery.com/implement-machine-learning-algorithm-performance-metrics-scratch-python/\n",
    "\n",
    "Readings\n",
    "  1. https://www.analyticsvidhya.com/blog/2020/10/all-about-decision-tree-from-scratch-with-python-implementation/\n",
    "  2. https://medium.com/@penggongting/implementing-decision-tree-from-scratch-in-python-c732e7c69aea\n",
    "  3. https://blog.exsilio.com/all/accuracy-precision-recall-f1-score-interpretation-of-performance-measures/\n"
   ]
  }
 ],
 "metadata": {
  "colab": {
   "collapsed_sections": [],
   "name": "DecisionTree.ipynb",
   "provenance": [],
   "toc_visible": true
  },
  "kernelspec": {
   "display_name": "Python 3",
   "language": "python",
   "name": "python3"
  },
  "language_info": {
   "codemirror_mode": {
    "name": "ipython",
    "version": 3
   },
   "file_extension": ".py",
   "mimetype": "text/x-python",
   "name": "python",
   "nbconvert_exporter": "python",
   "pygments_lexer": "ipython3",
   "version": "3.7.6-final"
  }
 },
 "nbformat": 4,
 "nbformat_minor": 4
}